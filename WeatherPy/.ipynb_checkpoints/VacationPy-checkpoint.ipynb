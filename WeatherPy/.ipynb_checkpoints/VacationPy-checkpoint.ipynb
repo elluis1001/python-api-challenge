{
 "cells": [
  {
   "cell_type": "markdown",
   "metadata": {},
   "source": [
    "# VacationPy\n",
    "---\n",
    "\n",
    "## Starter Code to Import Libraries and Load the Weather and Coordinates Data"
   ]
  },
  {
   "cell_type": "code",
   "execution_count": 28,
   "metadata": {},
   "outputs": [],
   "source": [
    "# Dependencies and Setup\n",
    "import hvplot.pandas\n",
    "import matplotlib.pyplot as plt\n",
    "import pandas as pd\n",
    "import requests\n",
    "import cartopy.crs as ccrs\n",
    "import geoviews as gv\n",
    "import pyproj\n",
    "\n",
    "# Import API key\n",
    "from api_keys import geoapify_key"
   ]
  },
  {
   "cell_type": "code",
   "execution_count": 29,
   "metadata": {},
   "outputs": [
    {
     "data": {
      "text/html": [
       "<div>\n",
       "<style scoped>\n",
       "    .dataframe tbody tr th:only-of-type {\n",
       "        vertical-align: middle;\n",
       "    }\n",
       "\n",
       "    .dataframe tbody tr th {\n",
       "        vertical-align: top;\n",
       "    }\n",
       "\n",
       "    .dataframe thead th {\n",
       "        text-align: right;\n",
       "    }\n",
       "</style>\n",
       "<table border=\"1\" class=\"dataframe\">\n",
       "  <thead>\n",
       "    <tr style=\"text-align: right;\">\n",
       "      <th></th>\n",
       "      <th>City_ID</th>\n",
       "      <th>City</th>\n",
       "      <th>Lat</th>\n",
       "      <th>Lng</th>\n",
       "      <th>Max Temp</th>\n",
       "      <th>Humidity</th>\n",
       "      <th>Cloudiness</th>\n",
       "      <th>Wind Speed</th>\n",
       "      <th>Country</th>\n",
       "      <th>Date</th>\n",
       "    </tr>\n",
       "  </thead>\n",
       "  <tbody>\n",
       "    <tr>\n",
       "      <th>0</th>\n",
       "      <td>0</td>\n",
       "      <td>port alfred</td>\n",
       "      <td>-33.5906</td>\n",
       "      <td>26.8910</td>\n",
       "      <td>13.99</td>\n",
       "      <td>96</td>\n",
       "      <td>55</td>\n",
       "      <td>6.50</td>\n",
       "      <td>ZA</td>\n",
       "      <td>1697509093</td>\n",
       "    </tr>\n",
       "    <tr>\n",
       "      <th>1</th>\n",
       "      <td>1</td>\n",
       "      <td>constantia</td>\n",
       "      <td>44.1833</td>\n",
       "      <td>28.6500</td>\n",
       "      <td>4.38</td>\n",
       "      <td>58</td>\n",
       "      <td>10</td>\n",
       "      <td>1.75</td>\n",
       "      <td>RO</td>\n",
       "      <td>1697508986</td>\n",
       "    </tr>\n",
       "    <tr>\n",
       "      <th>2</th>\n",
       "      <td>2</td>\n",
       "      <td>noosa heads</td>\n",
       "      <td>-26.3833</td>\n",
       "      <td>153.1500</td>\n",
       "      <td>23.52</td>\n",
       "      <td>61</td>\n",
       "      <td>96</td>\n",
       "      <td>7.59</td>\n",
       "      <td>AU</td>\n",
       "      <td>1697508919</td>\n",
       "    </tr>\n",
       "    <tr>\n",
       "      <th>3</th>\n",
       "      <td>3</td>\n",
       "      <td>thompson</td>\n",
       "      <td>55.7435</td>\n",
       "      <td>-97.8558</td>\n",
       "      <td>8.09</td>\n",
       "      <td>87</td>\n",
       "      <td>75</td>\n",
       "      <td>1.03</td>\n",
       "      <td>CA</td>\n",
       "      <td>1697509093</td>\n",
       "    </tr>\n",
       "    <tr>\n",
       "      <th>4</th>\n",
       "      <td>4</td>\n",
       "      <td>sao paulo de olivenca</td>\n",
       "      <td>-3.3783</td>\n",
       "      <td>-68.8725</td>\n",
       "      <td>22.96</td>\n",
       "      <td>97</td>\n",
       "      <td>59</td>\n",
       "      <td>0.72</td>\n",
       "      <td>BR</td>\n",
       "      <td>1697509093</td>\n",
       "    </tr>\n",
       "  </tbody>\n",
       "</table>\n",
       "</div>"
      ],
      "text/plain": [
       "   City_ID                   City      Lat       Lng  Max Temp  Humidity  \\\n",
       "0        0            port alfred -33.5906   26.8910     13.99        96   \n",
       "1        1             constantia  44.1833   28.6500      4.38        58   \n",
       "2        2            noosa heads -26.3833  153.1500     23.52        61   \n",
       "3        3               thompson  55.7435  -97.8558      8.09        87   \n",
       "4        4  sao paulo de olivenca  -3.3783  -68.8725     22.96        97   \n",
       "\n",
       "   Cloudiness  Wind Speed Country        Date  \n",
       "0          55        6.50      ZA  1697509093  \n",
       "1          10        1.75      RO  1697508986  \n",
       "2          96        7.59      AU  1697508919  \n",
       "3          75        1.03      CA  1697509093  \n",
       "4          59        0.72      BR  1697509093  "
      ]
     },
     "execution_count": 29,
     "metadata": {},
     "output_type": "execute_result"
    }
   ],
   "source": [
    "# Load the CSV file created in Part 1 into a Pandas DataFrame\n",
    "city_data_df = pd.read_csv(\"output_data/cities.csv\")\n",
    "\n",
    "# Display sample data\n",
    "city_data_df.head()"
   ]
  },
  {
   "cell_type": "markdown",
   "metadata": {},
   "source": [
    "---\n",
    "\n",
    "### Step 1: Create a map that displays a point for every city in the `city_data_df` DataFrame. The size of the point should be the humidity in each city."
   ]
  },
  {
   "cell_type": "code",
   "execution_count": 30,
   "metadata": {},
   "outputs": [
    {
     "data": {
      "text/plain": [
       "City_ID         int64\n",
       "City           object\n",
       "Lat           float64\n",
       "Lng           float64\n",
       "Max Temp      float64\n",
       "Humidity        int64\n",
       "Cloudiness      int64\n",
       "Wind Speed    float64\n",
       "Country        object\n",
       "Date            int64\n",
       "dtype: object"
      ]
     },
     "execution_count": 30,
     "metadata": {},
     "output_type": "execute_result"
    }
   ],
   "source": [
    "city_data_df.dtypes"
   ]
  },
  {
   "cell_type": "code",
   "execution_count": 12,
   "metadata": {},
   "outputs": [
    {
     "name": "stdout",
     "output_type": "stream",
     "text": [
      "Collecting cartopy\n",
      "  Obtaining dependency information for cartopy from https://files.pythonhosted.org/packages/bb/50/ab5495dcc22587179134cd37e6534212babeda78e86bda311c37c773f086/Cartopy-0.22.0-cp311-cp311-win_amd64.whl.metadata\n",
      "  Using cached Cartopy-0.22.0-cp311-cp311-win_amd64.whl.metadata (15 kB)\n",
      "Collecting geoviews\n",
      "  Obtaining dependency information for geoviews from https://files.pythonhosted.org/packages/7c/b1/c27b294bc3bfc06d7721082568f53d076918a039864afc656d6d237fe08b/geoviews-1.10.1-py2.py3-none-any.whl.metadata\n",
      "  Using cached geoviews-1.10.1-py2.py3-none-any.whl.metadata (11 kB)\n",
      "Collecting pyproj\n",
      "  Obtaining dependency information for pyproj from https://files.pythonhosted.org/packages/79/95/eb68113c5b5737c342bde1bab92705dabe69c16299c5a122616e50f1fbd6/pyproj-3.6.1-cp311-cp311-win_amd64.whl.metadata\n",
      "  Using cached pyproj-3.6.1-cp311-cp311-win_amd64.whl.metadata (31 kB)\n",
      "Requirement already satisfied: numpy>=1.21 in c:\\users\\ellui\\anaconda3\\lib\\site-packages (from cartopy) (1.24.3)\n",
      "Requirement already satisfied: matplotlib>=3.4 in c:\\users\\ellui\\anaconda3\\lib\\site-packages (from cartopy) (3.7.2)\n",
      "Collecting shapely>=1.7 (from cartopy)\n",
      "  Obtaining dependency information for shapely>=1.7 from https://files.pythonhosted.org/packages/9e/39/029c441d8af32ab423b229c4525ce5ce6707318155b59634811a4c56f5c4/shapely-2.0.2-cp311-cp311-win_amd64.whl.metadata\n",
      "  Downloading shapely-2.0.2-cp311-cp311-win_amd64.whl.metadata (7.2 kB)\n",
      "Requirement already satisfied: packaging>=20 in c:\\users\\ellui\\anaconda3\\lib\\site-packages (from cartopy) (23.1)\n",
      "Collecting pyshp>=2.1 (from cartopy)\n",
      "  Using cached pyshp-2.3.1-py2.py3-none-any.whl (46 kB)\n",
      "Requirement already satisfied: bokeh<3.3.0,>=3.1.0 in c:\\users\\ellui\\anaconda3\\lib\\site-packages (from geoviews) (3.2.1)\n",
      "Requirement already satisfied: holoviews>=1.16.0 in c:\\users\\ellui\\anaconda3\\lib\\site-packages (from geoviews) (1.17.1)\n",
      "Requirement already satisfied: param in c:\\users\\ellui\\anaconda3\\lib\\site-packages (from geoviews) (1.13.0)\n",
      "Requirement already satisfied: panel>=1.0.0 in c:\\users\\ellui\\anaconda3\\lib\\site-packages (from geoviews) (1.2.3)\n",
      "Requirement already satisfied: xyzservices in c:\\users\\ellui\\anaconda3\\lib\\site-packages (from geoviews) (2022.9.0)\n",
      "Requirement already satisfied: certifi in c:\\users\\ellui\\anaconda3\\lib\\site-packages (from pyproj) (2023.7.22)\n",
      "Requirement already satisfied: Jinja2>=2.9 in c:\\users\\ellui\\anaconda3\\lib\\site-packages (from bokeh<3.3.0,>=3.1.0->geoviews) (3.1.2)\n",
      "Requirement already satisfied: contourpy>=1 in c:\\users\\ellui\\anaconda3\\lib\\site-packages (from bokeh<3.3.0,>=3.1.0->geoviews) (1.0.5)\n",
      "Requirement already satisfied: pandas>=1.2 in c:\\users\\ellui\\anaconda3\\lib\\site-packages (from bokeh<3.3.0,>=3.1.0->geoviews) (2.1.1)\n",
      "Requirement already satisfied: pillow>=7.1.0 in c:\\users\\ellui\\anaconda3\\lib\\site-packages (from bokeh<3.3.0,>=3.1.0->geoviews) (10.0.1)\n",
      "Requirement already satisfied: PyYAML>=3.10 in c:\\users\\ellui\\anaconda3\\lib\\site-packages (from bokeh<3.3.0,>=3.1.0->geoviews) (6.0)\n",
      "Requirement already satisfied: tornado>=5.1 in c:\\users\\ellui\\anaconda3\\lib\\site-packages (from bokeh<3.3.0,>=3.1.0->geoviews) (6.3.3)\n",
      "Requirement already satisfied: pyviz-comms>=0.7.4 in c:\\users\\ellui\\anaconda3\\lib\\site-packages (from holoviews>=1.16.0->geoviews) (2.3.0)\n",
      "Requirement already satisfied: colorcet in c:\\users\\ellui\\anaconda3\\lib\\site-packages (from holoviews>=1.16.0->geoviews) (3.0.1)\n",
      "Requirement already satisfied: cycler>=0.10 in c:\\users\\ellui\\anaconda3\\lib\\site-packages (from matplotlib>=3.4->cartopy) (0.11.0)\n",
      "Requirement already satisfied: fonttools>=4.22.0 in c:\\users\\ellui\\anaconda3\\lib\\site-packages (from matplotlib>=3.4->cartopy) (4.25.0)\n",
      "Requirement already satisfied: kiwisolver>=1.0.1 in c:\\users\\ellui\\anaconda3\\lib\\site-packages (from matplotlib>=3.4->cartopy) (1.4.4)\n",
      "Requirement already satisfied: pyparsing<3.1,>=2.3.1 in c:\\users\\ellui\\anaconda3\\lib\\site-packages (from matplotlib>=3.4->cartopy) (3.0.9)\n",
      "Requirement already satisfied: python-dateutil>=2.7 in c:\\users\\ellui\\anaconda3\\lib\\site-packages (from matplotlib>=3.4->cartopy) (2.8.2)\n",
      "Requirement already satisfied: markdown in c:\\users\\ellui\\anaconda3\\lib\\site-packages (from panel>=1.0.0->geoviews) (3.4.1)\n",
      "Requirement already satisfied: markdown-it-py in c:\\users\\ellui\\anaconda3\\lib\\site-packages (from panel>=1.0.0->geoviews) (2.2.0)\n",
      "Requirement already satisfied: linkify-it-py in c:\\users\\ellui\\anaconda3\\lib\\site-packages (from panel>=1.0.0->geoviews) (2.0.0)\n",
      "Requirement already satisfied: mdit-py-plugins in c:\\users\\ellui\\anaconda3\\lib\\site-packages (from panel>=1.0.0->geoviews) (0.3.0)\n",
      "Requirement already satisfied: requests in c:\\users\\ellui\\anaconda3\\lib\\site-packages (from panel>=1.0.0->geoviews) (2.31.0)\n",
      "Requirement already satisfied: tqdm>=4.48.0 in c:\\users\\ellui\\anaconda3\\lib\\site-packages (from panel>=1.0.0->geoviews) (4.65.0)\n",
      "Requirement already satisfied: bleach in c:\\users\\ellui\\anaconda3\\lib\\site-packages (from panel>=1.0.0->geoviews) (4.1.0)\n",
      "Requirement already satisfied: typing-extensions in c:\\users\\ellui\\anaconda3\\lib\\site-packages (from panel>=1.0.0->geoviews) (4.7.1)\n",
      "Requirement already satisfied: MarkupSafe>=2.0 in c:\\users\\ellui\\anaconda3\\lib\\site-packages (from Jinja2>=2.9->bokeh<3.3.0,>=3.1.0->geoviews) (2.1.1)\n",
      "Requirement already satisfied: pytz>=2020.1 in c:\\users\\ellui\\anaconda3\\lib\\site-packages (from pandas>=1.2->bokeh<3.3.0,>=3.1.0->geoviews) (2023.3.post1)\n",
      "Requirement already satisfied: tzdata>=2022.1 in c:\\users\\ellui\\anaconda3\\lib\\site-packages (from pandas>=1.2->bokeh<3.3.0,>=3.1.0->geoviews) (2023.3)\n",
      "Requirement already satisfied: six>=1.5 in c:\\users\\ellui\\anaconda3\\lib\\site-packages (from python-dateutil>=2.7->matplotlib>=3.4->cartopy) (1.16.0)\n",
      "Requirement already satisfied: colorama in c:\\users\\ellui\\anaconda3\\lib\\site-packages (from tqdm>=4.48.0->panel>=1.0.0->geoviews) (0.4.6)\n",
      "Requirement already satisfied: webencodings in c:\\users\\ellui\\anaconda3\\lib\\site-packages (from bleach->panel>=1.0.0->geoviews) (0.5.1)\n",
      "Requirement already satisfied: pyct>=0.4.4 in c:\\users\\ellui\\anaconda3\\lib\\site-packages (from colorcet->holoviews>=1.16.0->geoviews) (0.5.0)\n",
      "Requirement already satisfied: uc-micro-py in c:\\users\\ellui\\anaconda3\\lib\\site-packages (from linkify-it-py->panel>=1.0.0->geoviews) (1.0.1)\n",
      "Requirement already satisfied: mdurl~=0.1 in c:\\users\\ellui\\anaconda3\\lib\\site-packages (from markdown-it-py->panel>=1.0.0->geoviews) (0.1.0)\n",
      "Requirement already satisfied: charset-normalizer<4,>=2 in c:\\users\\ellui\\anaconda3\\lib\\site-packages (from requests->panel>=1.0.0->geoviews) (2.0.4)\n",
      "Requirement already satisfied: idna<4,>=2.5 in c:\\users\\ellui\\anaconda3\\lib\\site-packages (from requests->panel>=1.0.0->geoviews) (3.4)\n",
      "Requirement already satisfied: urllib3<3,>=1.21.1 in c:\\users\\ellui\\anaconda3\\lib\\site-packages (from requests->panel>=1.0.0->geoviews) (1.26.16)\n",
      "Using cached Cartopy-0.22.0-cp311-cp311-win_amd64.whl (11.2 MB)\n",
      "Using cached geoviews-1.10.1-py2.py3-none-any.whl (509 kB)\n",
      "Using cached pyproj-3.6.1-cp311-cp311-win_amd64.whl (6.1 MB)\n",
      "Downloading shapely-2.0.2-cp311-cp311-win_amd64.whl (1.4 MB)\n",
      "   ---------------------------------------- 0.0/1.4 MB ? eta -:--:--\n",
      "   ---------------------------------------- 0.0/1.4 MB ? eta -:--:--\n",
      "    --------------------------------------- 0.0/1.4 MB 435.7 kB/s eta 0:00:04\n",
      "   --- ------------------------------------ 0.1/1.4 MB 1.4 MB/s eta 0:00:01\n",
      "   -------- ------------------------------- 0.3/1.4 MB 2.2 MB/s eta 0:00:01\n",
      "   ----------------- ---------------------- 0.6/1.4 MB 3.2 MB/s eta 0:00:01\n",
      "   ------------------------ --------------- 0.9/1.4 MB 3.8 MB/s eta 0:00:01\n",
      "   -------------------------------- ------- 1.2/1.4 MB 4.1 MB/s eta 0:00:01\n",
      "   ---------------------------------------  1.4/1.4 MB 4.3 MB/s eta 0:00:01\n",
      "   ---------------------------------------- 1.4/1.4 MB 4.1 MB/s eta 0:00:00\n",
      "Installing collected packages: shapely, pyshp, pyproj, cartopy, geoviews\n",
      "Successfully installed cartopy-0.22.0 geoviews-1.10.1 pyproj-3.6.1 pyshp-2.3.1 shapely-2.0.2\n"
     ]
    }
   ],
   "source": [
    "! pip install cartopy geoviews pyproj"
   ]
  },
  {
   "cell_type": "code",
   "execution_count": 31,
   "metadata": {},
   "outputs": [
    {
     "data": {},
     "metadata": {},
     "output_type": "display_data"
    },
    {
     "data": {
      "application/vnd.holoviews_exec.v0+json": "",
      "text/html": [
       "<div id='p1095'>\n",
       "  <div id=\"db6559a6-8fc6-45fc-ab7d-80605febd00f\" data-root-id=\"p1095\" style=\"display: contents;\"></div>\n",
       "</div>\n",
       "<script type=\"application/javascript\">(function(root) {\n",
       "  var docs_json = {\"1b859989-2cf7-426b-9e53-79bfd1307eed\":{\"version\":\"3.2.1\",\"title\":\"Bokeh Application\",\"roots\":[{\"type\":\"object\",\"name\":\"Row\",\"id\":\"p1095\",\"attributes\":{\"name\":\"Row01732\",\"tags\":[\"embedded\"],\"stylesheets\":[\"\\n:host(.pn-loading.pn-arc):before, .pn-loading.pn-arc:before {\\n  background-image: url(\\\"data:image/svg+xml;base64,PHN2ZyB4bWxucz0iaHR0cDovL3d3dy53My5vcmcvMjAwMC9zdmciIHN0eWxlPSJtYXJnaW46IGF1dG87IGJhY2tncm91bmQ6IG5vbmU7IGRpc3BsYXk6IGJsb2NrOyBzaGFwZS1yZW5kZXJpbmc6IGF1dG87IiB2aWV3Qm94PSIwIDAgMTAwIDEwMCIgcHJlc2VydmVBc3BlY3RSYXRpbz0ieE1pZFlNaWQiPiAgPGNpcmNsZSBjeD0iNTAiIGN5PSI1MCIgZmlsbD0ibm9uZSIgc3Ryb2tlPSIjYzNjM2MzIiBzdHJva2Utd2lkdGg9IjEwIiByPSIzNSIgc3Ryb2tlLWRhc2hhcnJheT0iMTY0LjkzMzYxNDMxMzQ2NDE1IDU2Ljk3Nzg3MTQzNzgyMTM4Ij4gICAgPGFuaW1hdGVUcmFuc2Zvcm0gYXR0cmlidXRlTmFtZT0idHJhbnNmb3JtIiB0eXBlPSJyb3RhdGUiIHJlcGVhdENvdW50PSJpbmRlZmluaXRlIiBkdXI9IjFzIiB2YWx1ZXM9IjAgNTAgNTA7MzYwIDUwIDUwIiBrZXlUaW1lcz0iMDsxIj48L2FuaW1hdGVUcmFuc2Zvcm0+ICA8L2NpcmNsZT48L3N2Zz4=\\\");\\n  background-size: auto calc(min(50%, 400px));\\n}\",{\"type\":\"object\",\"name\":\"ImportedStyleSheet\",\"id\":\"p1098\",\"attributes\":{\"url\":\"https://cdn.holoviz.org/panel/1.2.3/dist/css/loading.css\"}},{\"type\":\"object\",\"name\":\"ImportedStyleSheet\",\"id\":\"p1179\",\"attributes\":{\"url\":\"https://cdn.holoviz.org/panel/1.2.3/dist/css/listpanel.css\"}},{\"type\":\"object\",\"name\":\"ImportedStyleSheet\",\"id\":\"p1096\",\"attributes\":{\"url\":\"https://cdn.holoviz.org/panel/1.2.3/dist/bundled/theme/default.css\"}},{\"type\":\"object\",\"name\":\"ImportedStyleSheet\",\"id\":\"p1097\",\"attributes\":{\"url\":\"https://cdn.holoviz.org/panel/1.2.3/dist/bundled/theme/native.css\"}}],\"margin\":0,\"sizing_mode\":\"stretch_width\",\"align\":\"start\",\"children\":[{\"type\":\"object\",\"name\":\"Spacer\",\"id\":\"p1099\",\"attributes\":{\"name\":\"HSpacer01742\",\"stylesheets\":[\"\\n:host(.pn-loading.pn-arc):before, .pn-loading.pn-arc:before {\\n  background-image: url(\\\"data:image/svg+xml;base64,PHN2ZyB4bWxucz0iaHR0cDovL3d3dy53My5vcmcvMjAwMC9zdmciIHN0eWxlPSJtYXJnaW46IGF1dG87IGJhY2tncm91bmQ6IG5vbmU7IGRpc3BsYXk6IGJsb2NrOyBzaGFwZS1yZW5kZXJpbmc6IGF1dG87IiB2aWV3Qm94PSIwIDAgMTAwIDEwMCIgcHJlc2VydmVBc3BlY3RSYXRpbz0ieE1pZFlNaWQiPiAgPGNpcmNsZSBjeD0iNTAiIGN5PSI1MCIgZmlsbD0ibm9uZSIgc3Ryb2tlPSIjYzNjM2MzIiBzdHJva2Utd2lkdGg9IjEwIiByPSIzNSIgc3Ryb2tlLWRhc2hhcnJheT0iMTY0LjkzMzYxNDMxMzQ2NDE1IDU2Ljk3Nzg3MTQzNzgyMTM4Ij4gICAgPGFuaW1hdGVUcmFuc2Zvcm0gYXR0cmlidXRlTmFtZT0idHJhbnNmb3JtIiB0eXBlPSJyb3RhdGUiIHJlcGVhdENvdW50PSJpbmRlZmluaXRlIiBkdXI9IjFzIiB2YWx1ZXM9IjAgNTAgNTA7MzYwIDUwIDUwIiBrZXlUaW1lcz0iMDsxIj48L2FuaW1hdGVUcmFuc2Zvcm0+ICA8L2NpcmNsZT48L3N2Zz4=\\\");\\n  background-size: auto calc(min(50%, 400px));\\n}\",{\"id\":\"p1098\"},{\"id\":\"p1096\"},{\"id\":\"p1097\"}],\"margin\":0,\"sizing_mode\":\"stretch_width\",\"align\":\"start\"}},{\"type\":\"object\",\"name\":\"Figure\",\"id\":\"p1120\",\"attributes\":{\"width\":null,\"height\":null,\"margin\":[5,10],\"sizing_mode\":\"fixed\",\"align\":\"start\",\"x_range\":{\"type\":\"object\",\"name\":\"Range1d\",\"id\":\"p1109\",\"attributes\":{\"tags\":[[[\"Longitude\",\"Longitude\",null]],[]],\"start\":-22477289.543891035,\"end\":22686770.561665814,\"reset_start\":-22477289.543891035,\"reset_end\":22686770.561665814,\"min_interval\":5}},\"y_range\":{\"type\":\"object\",\"name\":\"Range1d\",\"id\":\"p1110\",\"attributes\":{\"tags\":[[[\"Latitude\",\"Latitude\",null]],{\"type\":\"map\",\"entries\":[[\"invert_yaxis\",false],[\"autorange\",false]]}],\"start\":-12548199.946672568,\"end\":19711842.985868037,\"reset_start\":-12548199.946672568,\"reset_end\":19711842.985868037,\"min_interval\":5}},\"x_scale\":{\"type\":\"object\",\"name\":\"LinearScale\",\"id\":\"p1130\"},\"y_scale\":{\"type\":\"object\",\"name\":\"LinearScale\",\"id\":\"p1131\"},\"title\":{\"type\":\"object\",\"name\":\"Title\",\"id\":\"p1123\",\"attributes\":{\"text_color\":\"black\",\"text_font_size\":\"12pt\"}},\"renderers\":[{\"type\":\"object\",\"name\":\"TileRenderer\",\"id\":\"p1153\",\"attributes\":{\"level\":\"underlay\",\"tile_source\":{\"type\":\"object\",\"name\":\"WMTSTileSource\",\"id\":\"p1149\",\"attributes\":{\"url\":\"https://c.tile.openstreetmap.org/{Z}/{X}/{Y}.png\",\"attribution\":\"&copy; <a href=\\\"https://www.openstreetmap.org/copyright\\\">OpenStreetMap</a> contributors\"}}}},{\"type\":\"object\",\"name\":\"GlyphRenderer\",\"id\":\"p1169\",\"attributes\":{\"name\":\"color\",\"data_source\":{\"type\":\"object\",\"name\":\"ColumnDataSource\",\"id\":\"p1158\",\"attributes\":{\"selected\":{\"type\":\"object\",\"name\":\"Selection\",\"id\":\"p1159\",\"attributes\":{\"indices\":[],\"line_indices\":[]}},\"selection_policy\":{\"type\":\"object\",\"name\":\"UnionRenderers\",\"id\":\"p1160\"},\"data\":{\"type\":\"map\",\"entries\":[[\"Lng\",{\"type\":\"ndarray\",\"array\":{\"type\":\"bytes\",\"data\":\"umClNqrWRkGeGKO0G1VIQRBmPUBAQnBB/yl4OvnGZMF2WEzoKD9dwUC4YH54vnLBCiuw5SXIXsFzDFs+EC5wwWWYZsRZ33FBqrPZODjrcMF7TB+V3AAwwbvSJ07sAF3BPfdnF7Kfa8HBxX+3qtJxQfT0y/f3kDpButrhjdphb8GgP/gKmek0wfT9gdJJ0V1BUm8l6CF2XEEzm3Tv6ghfQXwfRcKnR2jBamxbFkblX8E+ayOtIgdjQeCVrcmcU2pBEBTiYwP4bkGFsB8CnP1oQSSXE+0GQDfBgbrUo9RXX8G10z0Te7NmQdhu8iH+bGFBCsZqlx/PYEGSjsw8ebhgQbSd+4+epU3BYEE4jq+vOEEMUx2wDu5aQYvA21yD63DBy3dV5Xc9X0E2SR99gp4twWIW9XqAfG5BQMDIixcvY8EegujjXZVTQaxklHAC0XBBXEJI8tA3aMGrKNCc8dheQRsUdT011UHBaQ0P/mjhbUHyf0+uHZ5XQdXelaeWmmxB6w8T7uVoX8H2JxkknO9uQQ7+0ED4qlTBrY6rPaEUB8HXz2Cx+l9IwRylYBH9Q0lBIWjrqRbTa0GZFS9fPdxKQXaL0cbcAU/BFbUMQ+lpO0F7z8n9IQskQfHDR9z78VZBsiieVLZUUUEGubB+GrNVwYfkcV/7VUBBdZYeYTTIX8Gd6nlBebdFQR/xtuzOjmRB8+9W32H0XkH9ZfCAbkdvQS9jVGnZxGJBopBDek32cMFx+AmWVYZUQZwwCS9dkWLB95zNH4ZGX8Eo8HxHVdZhwRbYNkbeLF/BUe3jUtzYUcES79WrSLNTwX7VfBnrHU7BGIFI2/QfaUEovR5+dglRwXILP8L/l3DBhVo+z1A+YEGWbqlNXytcwflf5P4tBUFBUlde9x4BXkF56zu9+XZwwRuZ9ifa0mDBHsjCz2ggYMF2IKaFXatxQeVLTy35fGZBQ2alB5wFa0HotJCyz/1xQSQDoPqir2NB3keG1j/1U0EDiF60wE1lQSQflxAnWl3BpINLTstLXsGzMOtbCChbQSpoF6Oyl2rB7O0ZDOGuZ0ESTtfF/gVmwZrRueGVnVjBkgg75Ut9XMGxxT+W1fZiwQmgBqA41gJBjKjtVquAYcHuLKUxc29rQfb4l3o0U2/B6G0Wx8KyYEEjmTiZEB9kQbnkMo3OSF/BoFqP43RBZ8Fmgv7gTIxTwe/H8qrQ6CRB4StCacxzcMEX0KZQr7FlQXwcin+u13BBGzPpNYhdZcFUGLTMAVRpwX0AsrtiHV7BSx2kfB1HPEE+VELf6OlwwZjIZ6mI0GtBgiETtxbWVsHi+knhCwhyQSkA417hGXJBKmIKm2REKkHoKmhe8ilkwZBMbvojJWHBltWy2hSAWEFgCFh0nPheQW+j7256x1tBLE7xrSC2UUHc32o2jDlSQccpUCyQu1FBCIX0HQm9HcH3cJziqmduQYQgtR/krG9Bmoa3PUsCcEEqFD9DaQVgwQ4calJPHw7BR2HXkfXuQEGKOxd7mpA8Qb6Kh4YjpmfB1Sd/ahlhckGxgTwsKl9hQZ4Yo7QbVWhBPH7RIPH+UUEvYsrhcYxiwZB9KsgvKFJBRziu7gJXYUGqBcJyBMhpwZcZxLV3S2TBRhTs8u4nY0F7z8n9IQtEQZr/e30J2FzB7BbtdN9RVcHmHMAbQWJiQd62hV2YE3DB4YAdmKEkbkG34uwsXZ5bwa87VM9noGpBsVDp28LobkFNtAmaNkxiQYrChV85CUtBPX8VhZGfakFFpNsrU7dpQSxfKEOW3nFBarPmno2ebUFbsu6sU1VrQXC7IGyWj3DBRfNPGajQakFffcSmSY5nwaJnkPL7CXLBs5RE4pFQcsH+O7Ke+g1oQRsBKpnwO3FBGQsg0D0YXcGOrxrjrm5RwcENsnMci1ZBvHXAKCYkUEF1JpR/uVxrQUVFsMfdfm5B2Rmuucp9FUHMkegbDWJWwY9d98HoPUNBeOx6Rjr+YMFKkN2RCcptQcEZvhtos2JBsS+n92eHQkE7LhA5pCo2wf5V3v1gz1BBTQP4oWpgXkE+3kDpBthlwbmAJmebrGdB2IAaFgoxcEFh3wrxvlpmwfjGOIGjVVfBb1HMTbSWTUEG80hpktdyQWAnNaZNv3DBTgxK2nctW0Hsu3cbDFQqwV8UgPXv0mlBgP8vREXuXcGYBtZ/T+ZXQRoykf/CXvjAvT8iCuj2WkGtcx+hkgBnQdR89vapnlnBy6EDNXL0ZkEQ9aLxPJlmQbEsg3sQ2WxBF1rXq2/ZbUEw/kVH1R5wQZOAhXCJKUPBxSCdfcG1YEGWFTXAqgZlQacYGqzeylbBSghPMhxsZcGe+I68xgxQQZpfypG35WlBpjVFD9a4bkH9T5k6nGJdQUznESkhJFHBHt0+Lz/xV8G2cmisT11hwaGAQQUGJifBoahuDZXeZcGxEutyglBTQbVYjax9d1JBn+1UZR/ea0EOiH7rgb1vwc/MliEo8mhBsWucjabyb0EVY70x7ilUwe2rFDlqAGJBsE2cpCAbaME/WqUhKzJTQdObX7Mv41pBoxmcI/z5VsE1OXzYht1nQVaqrw1SAFbBWimsez/ZGcEZGMx3iwBuQb2K1bDNkWlB3m/a86OjQ8EGv9P+Ao46QcpZK7IygG5BGgZ8m+8xVsECfUA2IdFvQeS9cM55bmhBoyM4IReSVkG3kEGAAD9oQbrgWKJBCFZBkOvVIGhMUUFDW56QC9dRwfA6+m4aMlNBovpDBLEjckF7JqoAu5lFweavacTjTFhBpC6eaPPPU0E/iDVs/DJEQS/BCImXXGpBO1asH0WaTcEA/9iLaHQ+wYVF1bIqBWVB0+ipGRsEV8Eef8RnBudtQfjRiFDlC3BBIIZbACMoNEGA7d9nqR9WwYycd6JGBV/BRpa+qSIOZUF7LOP4PfxeQaB+lM1lGFVBBUb35HpVWcGX/eoecXxZwRqcw9rIxTxB7WOC2fEjUUFn/bmDFwxqwY6A4QKEk2nBXUCxMsuxakGTnA2o+xxEQU7zVzJZj1DBgPWZp5eAWEG6/liLx99tQSD8E55Tsm/BjzWrq2fjbUGUTPtgGm1uQf7CCgv//nHBt+93IEO7ZcEgbY04749iwbN3cIPitl7BU3k2LiOlZEFig+T6ri5qwaYp6ZZqe2DBFqden8p3L8E2lz5p/KhpwbVsEKbaWGHBNQ97g4IhVsFZFGJtC0JlQQMKgsqID3FBr57qP1hiJsEj2yGTfxtrQWNLVBB+IiNB2TjlJK6IY0EPoymWgnNWwQAJQzjh0lrBzkskqJxeXsGFkFYIbmZgQWxTNx2FDUJBN1EyLE/kacHNkZe8eIZMQSW1ywxQVmfBVvE6lpm5Y0EIR3DPpx9dwT0XhaVeAmbB15FABd41XsE6bqVh6kgvwTWUOfuWnFrBFY8SWBvEY8GBvZFI/aJmQSZLfVhCPWRBZYoA6neuTUE3ogBMOgZjwWsFI23YRmjB83iXagBHMMEEdtPwKitoQZRt/hGQJ1VBJ/x6funKY8GrsBYzonVvQYSwCYoBdlRBtVV3od38RsGLQPNqX5BmQWo9NghAaExBR1z4bEb/TkFT8wByV4lMQXaGqQ6d8XJBp9FiM2ICcEHShfL0wnZkQfbImrocsmnBs9yzK3OGTEFnazOLrfZVwWrtW3zV0WlBoxq/0zTPaEHttzMkZsBawT7gA5lBbWxBsH0yjQlZX8FT+2+8he5UQZzECg7FemVB3un1lmxjZUGrhdy1ylxHQZFhDkNMsWfB77eBV3dhUkGYiKdjyLdxQUK/3AfhrGzB+9o7/7MRUcHQAYZJnxpdwR8qTq4wvl7BB7JyVdxWWUFqz43k8TNlwaCrWs51czjBUQOOnrjCXcHGpT8czn5GQXMrGjWKZ2NBjXd8h8YuYMEdtlCw8L85QX+6DFbku2zBAWrY5RlxWMH97SPUbkxTwcEBm48DHyhBuYqmi66SKEGgAVWuRapdQUW6ACGDYlhBvFHiUwpDY0H5OLuY5X89QeM3WiCg9EZBJdmirUP4cUFeVzzPd49gwTYHD24+rGVBRSmSnITeI0HOPSY0XldgwfI72jB2X1VBj4uE189OLMEGubB+GrNlwQFpdXOHLklB9lBLXeahYMGhhbPosdJKQQuWHHhzUlHBbEDtS/uIaUHQWSB/zPFBQYpIrapN8VjBSw2aAPMiaMFgISSWWmcwQRX05/RU8XBBkH+GoDtaWsG0Rk3ep1AvwRsEV+/lUmnB0yfDK7EdOkG/E1vZJWtQQdtUXL/lDWjB0tTeVoFhYMGUf4Kh/QpwQZn7LEqWAGvBexcD9yK4UMHi4fhooVpDQY8LHGpfzkxB/v9BX2jhZ0F9yQf0+mgzwfghKypAPmXBwrpaBeMWSkFMt8sQWPtbwQmmipbi6TtB9QrbdI20ZMF+5g53B1EyQQDOe46ogHFBnPHmhm9dXUGHWoA3INUtQfylH2H6yFHBuR7au7i1XkGH/zqJeedlQbuNga9UuU7BKJK+voQPcEGVrcJf9URvQcZgkxzJDD5BFAbN8RxYWsGzeHW0nbARQcIIL/M1cGZBU3hFz4wJJsFurgq4L1Q5QVcj1PAW+l5Bv5B4tWlHWUEt13BspK8YQeeGJ33T8mHBNR9vhxK+VUG7jYGvVLk+wZ4SsoXVs1bBYS/JoyE/OkFPwTKRTR9WwQodQF7rGWDB2lKZD6t4YcFk9VPPQMFjQRe/jGf8T0xBIwKQjRpyDsHdMIxbgWBFQf/hJZ3aV1HBTSn7IpAgaEGxy/5zeV5RQfTk1/Nn9FrBtpjzuAtMIEFP6rSat+ZpwV19eagi3VdBuhOC5ZOra8GiPnNekcpsQRuTI3gRDU5BKuSJTI4lUkGV2g5GJqVXQQYOZ/pJSWLB1SUvoZWHJMG3qwqqftBNwdlRfmZV92nBPbY5I5IAcEExaPI8uoBfwezXRXZF32JB7oBDOTd0aEGgYCR3WcMsQTN9f0IydWlBUzQ3KRQucsE0u0m0WqohwfhZVD1C503B00G6BIu1Z8HNMSKT9YJuQXsham6xJjXBRxCt1qitK8FsQVYf+/ViQWYUm1FRKVxBNmyzjJC0R0GBLoX9d3tkwYSs+hjoCzDBGss5SGMeSkGCLY49dLVbQaZAB/ITFlhBzwAQlFxAYcF3l8GVIHhsQfzQgyiRxzJB6xOMaxgmWkFcUUU2XQ5PQYuVtCJcamVBAasWpLlpaEF9Icvkcl9ZwYgCIensUW5B5DCtGFDhYUHuVIpwxWYyQUOMl+uGV2jBbiG24Bd+a0FJqjtCEsVZQT0xuQuoF0lBN4cV39/ibkEAj3j0rO5iQYbP6TTjej5B0yn2SHIwYUHX8+0mgmVbwaVP/1pA00ZBTEj1AASuQMGLW0J6/iZhwcxVEQVM0lfBPk48C8PVckFljqu4TKVbwcduD29FxTZBLKI7IWbvPMGPjjZAK1YBwTVF+pPOrFRBmhSoDMCTYsFxOmsELlRWwVXyILliEWDBHPtjhySVYEEiUBF2Y8ZgweMVSJEWwyJBamPXjJbeL8FQdc5NK1ZmwaZDhNTi81FBq7AWM6J1b0HEBVmq72L4QAMYHJyCozhBqbCqgBP5WEFOH9RtWx9RwQi8b8m4J13BoeZDu4pXYMHpE9qVwhFcwfoxDpGVbGhBAjVVcDHFWsFaTVj/uIAzQesPE+7laF/B\"},\"shape\":[534],\"dtype\":\"float64\",\"order\":\"little\"}],[\"Lat\",{\"type\":\"ndarray\",\"array\":{\"type\":\"bytes\",\"data\":\"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\"},\"shape\":[534],\"dtype\":\"float64\",\"order\":\"little\"}],[\"City\",{\"type\":\"ndarray\",\"array\":[\"port alfred\",\"constantia\",\"noosa heads\",\"thompson\",\"sao paulo de olivenca\",\"waitangi\",\"puerto natales\",\"kodiak\",\"invercargill\",\"lihue\",\"cascais\",\"ushuaia\",\"adamstown\",\"tadine\",\"longyearbyen\",\"college\",\"edinburgh of the seven seas\",\"port-aux-francais\",\"panjab\",\"hithadhoo\",\"yellowknife\",\"minas de marcona\",\"bera\",\"cataingan\",\"yuzhno-kurilsk\",\"jalai nur\",\"camayenne\",\"chonchi\",\"don luan\",\"bakchar\",\"klyuchi\",\"sahaswan\",\"conde\",\"swakopmund\",\"port mathurin\",\"wailua homesteads\",\"vejalpur\",\"olonkinbyen\",\"colac\",\"puerto ayora\",\"ihosy\",\"vilyuchinsk\",\"guerrero negro\",\"kavaratti\",\"selfoss\",\"nikolayevsk-on-amure\",\"saint-joseph\",\"kayangel\",\"albany\",\"saipan\",\"imbituba\",\"stanley\",\"ribeira grande\",\"vadso\",\"howard springs\",\"tuzlukcu\",\"grytviken\",\"waddan\",\"ain touta\",\"hadibu\",\"novodvinsk\",\"ilulissat\",\"hermanus\",\"cartagena del chaira\",\"port elizabeth\",\"west island\",\"kudahuvadhoo\",\"blackmans bay\",\"talnakh\",\"avarua\",\"mananjary\",\"tela\",\"lebu\",\"dawesville\",\"bethel\",\"arraial do cabo\",\"sao vicente\",\"touros\",\"nyurba\",\"acarau\",\"haiku-pauwela\",\"gubkinskiy\",\"san luis\",\"bredasdorp\",\"khanpur\",\"hilo\",\"jamestown\",\"san bernardo del viento\",\"bilibino\",\"phu ly\",\"zeya\",\"papatowai\",\"bamboo flat\",\"tolanaro\",\"georgetown\",\"villa bruzual\",\"coquimbo\",\"vorgashor\",\"campbell river\",\"sosnovo-ozerskoye\",\"tucumcari\",\"salto\",\"sao gabriel da cachoeira\",\"thunder bay\",\"margate\",\"kapuskasing\",\"kijang\",\"badger\",\"slavgorod\",\"along\",\"lake carmel\",\"vernal\",\"qaqortoq\",\"alesund\",\"hawaiian paradise park\",\"jinchang\",\"petropavlovsk-kamchatsky\",\"mccook\",\"hermiston\",\"punta arenas\",\"otjiwarongo\",\"kapa'a\",\"nishinoomote\",\"mana\",\"utrik\",\"dunedin\",\"kristiansund\",\"galveston\",\"brevard\",\"beau vallon\",\"thinadhoo\",\"kharan\",\"sudislavl'\",\"afif\",\"al muwayh\",\"dabou\",\"ust-nera\",\"andergrove\",\"kavieng\",\"roma\",\"bechar\",\"yantarnyy\",\"kasongo-lunda\",\"fort mcmurray\",\"bikenibeu village\",\"kalmunai\",\"geraldton\",\"hadithah\",\"clarksville\",\"dubovskoye\",\"narasapur\",\"laguna\",\"lamar\",\"tura\",\"mbuji-mayi\",\"inirida\",\"cidreira\",\"igarka\",\"uturoa\",\"codrington\",\"puerto madryn\",\"arteche\",\"nemuro\",\"dudinka\",\"zonguldak\",\"aldan\",\"linhai\",\"port-vila\",\"mount isa\",\"kununurra\",\"kailua-kona\",\"tommot\",\"nogales\",\"alofi\",\"atafu village\",\"datong\",\"enewetak\",\"iqaluit\",\"sao joao da barra\",\"nar'yan-mar\",\"kitui\",\"tiksi\",\"wewak\",\"palafrugell\",\"st. john's\",\"drobeta-turnu severin\",\"muisne\",\"katsuura\",\"chinde\",\"batar\",\"atar\",\"sultanah\",\"ashkasham\",\"fort stockton\",\"aykhal\",\"forster\",\"la ronge\",\"punta del este\",\"beira\",\"anadyr\",\"marine corps base hawaii - mcbh\",\"vorkuta\",\"koulikoro\",\"vilyuysk\",\"taltal\",\"bandar abbas\",\"la passe\",\"torghay\",\"hoi an\",\"happy valley-goose bay\",\"kirensk\",\"beibei\",\"port lincoln\",\"abepura\",\"weno\",\"keflavik\",\"tazovsky\",\"nizhneudinsk\",\"sisimiut\",\"san luis de la loma\",\"mil'kovo\",\"basco\",\"piti village\",\"buka\",\"pocoes\",\"miquelon\",\"key west\",\"fuglafjordur\",\"chadron\",\"tsiombe\",\"bayji\",\"sorong\",\"mahina\",\"conduaga\",\"ulladulla\",\"paragominas\",\"sherghati\",\"puerto penasco\",\"koungou\",\"baikonur\",\"bage\",\"udachny\",\"caiaponia\",\"santander\",\"vanimo\",\"olyokminsk\",\"isafjordur\",\"makoua\",\"mendi\",\"remire-montjoly\",\"moree\",\"margaret river\",\"iskateley\",\"bodaybo\",\"atyrau\",\"ilha de mocambique\",\"ibipeba\",\"beledweyne\",\"mejit\",\"vila franca do campo\",\"pechora\",\"kotlas\",\"aketi\",\"ishigaki\",\"olinda\",\"tazacorte\",\"xinyuan\",\"lascano\",\"hasaki\",\"cronulla\",\"hundested\",\"rio grande\",\"concepcion\",\"zag\",\"mahibadhoo\",\"staryye ozinki\",\"avellaneda\",\"chivilcoy\",\"beboto\",\"tarasovskiy\",\"portland\",\"lompoc\",\"guiuan\",\"hammerfest\",\"itacare\",\"mahebourg\",\"jayapura\",\"afaahiti\",\"mount gambier\",\"okhotsk\",\"ta`u\",\"crane\",\"griffith\",\"palmer\",\"qamdo\",\"sutherlin\",\"caleta de carquin\",\"fisterra\",\"fort st. john\",\"san andres\",\"presidente epitacio\",\"pariaman\",\"auki\",\"klaksvik\",\"itoman\",\"san antonio de pale\",\"nagqu\",\"aasiaat\",\"santa cruz\",\"el bolson\",\"shache\",\"upington\",\"chilliwack\",\"dhromolaxia\",\"cabo san lucas\",\"sittwe\",\"san carlos\",\"coahuayana de hidalgo\",\"cockburn town\",\"oulad teima\",\"balnearia\",\"st. paul\",\"baise city\",\"banda aceh\",\"eilat\",\"puerto baquerizo moreno\",\"whitefish\",\"cestos city\",\"licheng\",\"eyl\",\"branson\",\"susuman\",\"susangerd\",\"praia da vitoria\",\"mandalgovi\",\"polyarnyy\",\"goksun\",\"mwadui\",\"suva\",\"magadan\",\"sinabang\",\"newman\",\"tete\",\"nuuk\",\"hualien city\",\"karratha\",\"viedma\",\"alice springs\",\"ancud\",\"antsiranana\",\"vikhorevka\",\"jinghong\",\"francistown\",\"ephraim\",\"mitsamiouli\",\"rongelap\",\"whitehorse\",\"jaguarari\",\"san juan\",\"yopal\",\"boldumsaz\",\"carrizo springs\",\"egilsstadir\",\"carora\",\"obo\",\"belyy yar\",\"pisco\",\"luderitz\",\"sitka\",\"mar del plata\",\"abaete\",\"sogndal\",\"bardai\",\"farkhar\",\"kandyagash\",\"deqen\",\"senica\",\"inari\",\"isangel\",\"santa cruz del sur\",\"laem sing\",\"ulsteinvik\",\"san juan de miraflores\",\"khark\",\"lata\",\"lazaro cardenas\",\"ntungamo\",\"lake monticello\",\"juba\",\"tapiramuta\",\"waingapu\",\"ciacova\",\"necochea\",\"rupert\",\"tortoli\",\"buala\",\"codajas\",\"mugia\",\"vernon\",\"camabatela\",\"turaif\",\"hurricane\",\"callao\",\"inverell\",\"smithers\",\"nova vicosa\",\"birao\",\"novovorontsovka\",\"chernyshevskiy\",\"tidjikja\",\"dauphin\",\"giyani\",\"puerto deseado\",\"oranjemund\",\"san patricio\",\"mantua\",\"kone\",\"dera bugti\",\"port-gentil\",\"armacao de buzios\",\"khandud\",\"gejiu\",\"coruripe\",\"ola\",\"lorengau\",\"menongue\",\"brinkmann\",\"porto novo\",\"flying fish cove\",\"boundiali\",\"n'dalatando\",\"moyynkum\",\"sur\",\"metlili chaamba\",\"hamilton\",\"madinat ash shamal\",\"akureyri\",\"chui\",\"biograd na moru\",\"mandaguacu\",\"broome\",\"brandon\",\"severo-yeniseyskiy\",\"gadzhiyevo\",\"axim\",\"jamsankoski\",\"camocim\",\"carnarvon\",\"lamu\",\"cole harbour\",\"den burg\",\"fremont\",\"troitsko-pechorsk\",\"prince rupert\",\"khandyga\",\"inhambane\",\"mizhirah\",\"sirjan\",\"ciudad dario\",\"zuenoula\",\"tamandare\",\"graham\",\"yeppoon\",\"bloomfield\",\"rikaze\",\"kuta\",\"illizi\",\"malango\",\"fale old settlement\",\"ferkessedougou\",\"natal\",\"ciudad constitucion\",\"wabag\",\"zouerate\",\"tindouf\",\"tyukhtet\",\"derzhavinsk\",\"east london\",\"san pedro pochutla\",\"colares\",\"scottburgh\",\"fayroz koh\",\"nyrob\",\"bodden town\",\"manokwari\",\"mouila\",\"troitsk\",\"bako\",\"chiang klang\",\"ji'an\",\"robore\",\"dolinsk\",\"maslyanino\",\"monastir\",\"twin falls\",\"naze\",\"iranshahr\",\"port saint john's\",\"port douglas\",\"turpan\",\"saldanha\",\"chulym\",\"bridgewater\",\"queenstown\",\"saudarkrokur\",\"vice\",\"cuiaba\",\"nadi\",\"rawson\",\"benguela\",\"nouadhibou\",\"island harbour\",\"usogorsk\",\"atmore\",\"almeirim\",\"kill devil hills\",\"mungaoli\",\"fort bragg\",\"tamanrasset\",\"peniche\",\"ixtapa\",\"baardheere\",\"emerald\",\"anloga\",\"walvis bay\",\"bakal\",\"campo formoso\",\"sena madureira\",\"puerto francisco de orellana\",\"riberalta\",\"macheng\",\"ariquemes\",\"verdal\",\"manhattan\"],\"shape\":[534],\"dtype\":\"object\",\"order\":\"little\"}],[\"Humidity\",{\"type\":\"ndarray\",\"array\":{\"type\":\"bytes\",\"data\":\"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\"},\"shape\":[534],\"dtype\":\"int32\",\"order\":\"little\"}],[\"color\",{\"type\":\"ndarray\",\"array\":[\"port alfred\",\"constantia\",\"noosa heads\",\"thompson\",\"sao paulo de olivenca\",\"waitangi\",\"puerto natales\",\"kodiak\",\"invercargill\",\"lihue\",\"cascais\",\"ushuaia\",\"adamstown\",\"tadine\",\"longyearbyen\",\"college\",\"edinburgh of the seven seas\",\"port-aux-francais\",\"panjab\",\"hithadhoo\",\"yellowknife\",\"minas de marcona\",\"bera\",\"cataingan\",\"yuzhno-kurilsk\",\"jalai nur\",\"camayenne\",\"chonchi\",\"don luan\",\"bakchar\",\"klyuchi\",\"sahaswan\",\"conde\",\"swakopmund\",\"port mathurin\",\"wailua homesteads\",\"vejalpur\",\"olonkinbyen\",\"colac\",\"puerto ayora\",\"ihosy\",\"vilyuchinsk\",\"guerrero negro\",\"kavaratti\",\"selfoss\",\"nikolayevsk-on-amure\",\"saint-joseph\",\"kayangel\",\"albany\",\"saipan\",\"imbituba\",\"stanley\",\"ribeira grande\",\"vadso\",\"howard springs\",\"tuzlukcu\",\"grytviken\",\"waddan\",\"ain touta\",\"hadibu\",\"novodvinsk\",\"ilulissat\",\"hermanus\",\"cartagena del chaira\",\"port elizabeth\",\"west island\",\"kudahuvadhoo\",\"blackmans bay\",\"talnakh\",\"avarua\",\"mananjary\",\"tela\",\"lebu\",\"dawesville\",\"bethel\",\"arraial do cabo\",\"sao vicente\",\"touros\",\"nyurba\",\"acarau\",\"haiku-pauwela\",\"gubkinskiy\",\"san luis\",\"bredasdorp\",\"khanpur\",\"hilo\",\"jamestown\",\"san bernardo del viento\",\"bilibino\",\"phu ly\",\"zeya\",\"papatowai\",\"bamboo flat\",\"tolanaro\",\"georgetown\",\"villa bruzual\",\"coquimbo\",\"vorgashor\",\"campbell river\",\"sosnovo-ozerskoye\",\"tucumcari\",\"salto\",\"sao gabriel da cachoeira\",\"thunder bay\",\"margate\",\"kapuskasing\",\"kijang\",\"badger\",\"slavgorod\",\"along\",\"lake carmel\",\"vernal\",\"qaqortoq\",\"alesund\",\"hawaiian paradise park\",\"jinchang\",\"petropavlovsk-kamchatsky\",\"mccook\",\"hermiston\",\"punta arenas\",\"otjiwarongo\",\"kapa'a\",\"nishinoomote\",\"mana\",\"utrik\",\"dunedin\",\"kristiansund\",\"galveston\",\"brevard\",\"beau vallon\",\"thinadhoo\",\"kharan\",\"sudislavl'\",\"afif\",\"al muwayh\",\"dabou\",\"ust-nera\",\"andergrove\",\"kavieng\",\"roma\",\"bechar\",\"yantarnyy\",\"kasongo-lunda\",\"fort mcmurray\",\"bikenibeu village\",\"kalmunai\",\"geraldton\",\"hadithah\",\"clarksville\",\"dubovskoye\",\"narasapur\",\"laguna\",\"lamar\",\"tura\",\"mbuji-mayi\",\"inirida\",\"cidreira\",\"igarka\",\"uturoa\",\"codrington\",\"puerto madryn\",\"arteche\",\"nemuro\",\"dudinka\",\"zonguldak\",\"aldan\",\"linhai\",\"port-vila\",\"mount isa\",\"kununurra\",\"kailua-kona\",\"tommot\",\"nogales\",\"alofi\",\"atafu village\",\"datong\",\"enewetak\",\"iqaluit\",\"sao joao da barra\",\"nar'yan-mar\",\"kitui\",\"tiksi\",\"wewak\",\"palafrugell\",\"st. john's\",\"drobeta-turnu severin\",\"muisne\",\"katsuura\",\"chinde\",\"batar\",\"atar\",\"sultanah\",\"ashkasham\",\"fort stockton\",\"aykhal\",\"forster\",\"la ronge\",\"punta del este\",\"beira\",\"anadyr\",\"marine corps base hawaii - mcbh\",\"vorkuta\",\"koulikoro\",\"vilyuysk\",\"taltal\",\"bandar abbas\",\"la passe\",\"torghay\",\"hoi an\",\"happy valley-goose bay\",\"kirensk\",\"beibei\",\"port lincoln\",\"abepura\",\"weno\",\"keflavik\",\"tazovsky\",\"nizhneudinsk\",\"sisimiut\",\"san luis de la loma\",\"mil'kovo\",\"basco\",\"piti village\",\"buka\",\"pocoes\",\"miquelon\",\"key west\",\"fuglafjordur\",\"chadron\",\"tsiombe\",\"bayji\",\"sorong\",\"mahina\",\"conduaga\",\"ulladulla\",\"paragominas\",\"sherghati\",\"puerto penasco\",\"koungou\",\"baikonur\",\"bage\",\"udachny\",\"caiaponia\",\"santander\",\"vanimo\",\"olyokminsk\",\"isafjordur\",\"makoua\",\"mendi\",\"remire-montjoly\",\"moree\",\"margaret river\",\"iskateley\",\"bodaybo\",\"atyrau\",\"ilha de mocambique\",\"ibipeba\",\"beledweyne\",\"mejit\",\"vila franca do campo\",\"pechora\",\"kotlas\",\"aketi\",\"ishigaki\",\"olinda\",\"tazacorte\",\"xinyuan\",\"lascano\",\"hasaki\",\"cronulla\",\"hundested\",\"rio grande\",\"concepcion\",\"zag\",\"mahibadhoo\",\"staryye ozinki\",\"avellaneda\",\"chivilcoy\",\"beboto\",\"tarasovskiy\",\"portland\",\"lompoc\",\"guiuan\",\"hammerfest\",\"itacare\",\"mahebourg\",\"jayapura\",\"afaahiti\",\"mount gambier\",\"okhotsk\",\"ta`u\",\"crane\",\"griffith\",\"palmer\",\"qamdo\",\"sutherlin\",\"caleta de carquin\",\"fisterra\",\"fort st. john\",\"san andres\",\"presidente epitacio\",\"pariaman\",\"auki\",\"klaksvik\",\"itoman\",\"san antonio de pale\",\"nagqu\",\"aasiaat\",\"santa cruz\",\"el bolson\",\"shache\",\"upington\",\"chilliwack\",\"dhromolaxia\",\"cabo san lucas\",\"sittwe\",\"san carlos\",\"coahuayana de hidalgo\",\"cockburn town\",\"oulad teima\",\"balnearia\",\"st. paul\",\"baise city\",\"banda aceh\",\"eilat\",\"puerto baquerizo moreno\",\"whitefish\",\"cestos city\",\"licheng\",\"eyl\",\"branson\",\"susuman\",\"susangerd\",\"praia da vitoria\",\"mandalgovi\",\"polyarnyy\",\"goksun\",\"mwadui\",\"suva\",\"magadan\",\"sinabang\",\"newman\",\"tete\",\"nuuk\",\"hualien city\",\"karratha\",\"viedma\",\"alice springs\",\"ancud\",\"antsiranana\",\"vikhorevka\",\"jinghong\",\"francistown\",\"ephraim\",\"mitsamiouli\",\"rongelap\",\"whitehorse\",\"jaguarari\",\"san juan\",\"yopal\",\"boldumsaz\",\"carrizo springs\",\"egilsstadir\",\"carora\",\"obo\",\"belyy yar\",\"pisco\",\"luderitz\",\"sitka\",\"mar del plata\",\"abaete\",\"sogndal\",\"bardai\",\"farkhar\",\"kandyagash\",\"deqen\",\"senica\",\"inari\",\"isangel\",\"santa cruz del sur\",\"laem sing\",\"ulsteinvik\",\"san juan de miraflores\",\"khark\",\"lata\",\"lazaro cardenas\",\"ntungamo\",\"lake monticello\",\"juba\",\"tapiramuta\",\"waingapu\",\"ciacova\",\"necochea\",\"rupert\",\"tortoli\",\"buala\",\"codajas\",\"mugia\",\"vernon\",\"camabatela\",\"turaif\",\"hurricane\",\"callao\",\"inverell\",\"smithers\",\"nova vicosa\",\"birao\",\"novovorontsovka\",\"chernyshevskiy\",\"tidjikja\",\"dauphin\",\"giyani\",\"puerto deseado\",\"oranjemund\",\"san patricio\",\"mantua\",\"kone\",\"dera bugti\",\"port-gentil\",\"armacao de buzios\",\"khandud\",\"gejiu\",\"coruripe\",\"ola\",\"lorengau\",\"menongue\",\"brinkmann\",\"porto novo\",\"flying fish cove\",\"boundiali\",\"n'dalatando\",\"moyynkum\",\"sur\",\"metlili chaamba\",\"hamilton\",\"madinat ash shamal\",\"akureyri\",\"chui\",\"biograd na moru\",\"mandaguacu\",\"broome\",\"brandon\",\"severo-yeniseyskiy\",\"gadzhiyevo\",\"axim\",\"jamsankoski\",\"camocim\",\"carnarvon\",\"lamu\",\"cole harbour\",\"den burg\",\"fremont\",\"troitsko-pechorsk\",\"prince rupert\",\"khandyga\",\"inhambane\",\"mizhirah\",\"sirjan\",\"ciudad dario\",\"zuenoula\",\"tamandare\",\"graham\",\"yeppoon\",\"bloomfield\",\"rikaze\",\"kuta\",\"illizi\",\"malango\",\"fale old settlement\",\"ferkessedougou\",\"natal\",\"ciudad constitucion\",\"wabag\",\"zouerate\",\"tindouf\",\"tyukhtet\",\"derzhavinsk\",\"east london\",\"san pedro pochutla\",\"colares\",\"scottburgh\",\"fayroz koh\",\"nyrob\",\"bodden town\",\"manokwari\",\"mouila\",\"troitsk\",\"bako\",\"chiang klang\",\"ji'an\",\"robore\",\"dolinsk\",\"maslyanino\",\"monastir\",\"twin falls\",\"naze\",\"iranshahr\",\"port saint john's\",\"port douglas\",\"turpan\",\"saldanha\",\"chulym\",\"bridgewater\",\"queenstown\",\"saudarkrokur\",\"vice\",\"cuiaba\",\"nadi\",\"rawson\",\"benguela\",\"nouadhibou\",\"island harbour\",\"usogorsk\",\"atmore\",\"almeirim\",\"kill devil hills\",\"mungaoli\",\"fort bragg\",\"tamanrasset\",\"peniche\",\"ixtapa\",\"baardheere\",\"emerald\",\"anloga\",\"walvis bay\",\"bakal\",\"campo formoso\",\"sena madureira\",\"puerto francisco de orellana\",\"riberalta\",\"macheng\",\"ariquemes\",\"verdal\",\"manhattan\"],\"shape\":[534],\"dtype\":\"object\",\"order\":\"little\"}],[\"size\",{\"type\":\"ndarray\",\"array\":{\"type\":\"bytes\",\"data\":\"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\"},\"shape\":[534],\"dtype\":\"float64\",\"order\":\"little\"}]]}}},\"view\":{\"type\":\"object\",\"name\":\"CDSView\",\"id\":\"p1170\",\"attributes\":{\"filter\":{\"type\":\"object\",\"name\":\"AllIndices\",\"id\":\"p1171\"}}},\"glyph\":{\"type\":\"object\",\"name\":\"Scatter\",\"id\":\"p1164\",\"attributes\":{\"tags\":[\"apply_ranges\"],\"x\":{\"type\":\"field\",\"field\":\"Lng\"},\"y\":{\"type\":\"field\",\"field\":\"Lat\"},\"size\":{\"type\":\"field\",\"field\":\"size\"},\"line_color\":{\"type\":\"field\",\"field\":\"color\",\"transform\":{\"type\":\"object\",\"name\":\"CategoricalColorMapper\",\"id\":\"p1157\",\"attributes\":{\"palette\":[\"#1f77b3\",\"#ff7e0e\",\"#2ba02b\",\"#d62628\",\"#9367bc\",\"#8c564b\",\"#e277c1\",\"#7e7e7e\",\"#bcbc21\",\"#16bdcf\",\"#3a0182\",\"#004201\",\"#0fffa8\",\"#5d003f\",\"#bcbcff\",\"#d8afa1\",\"#b80080\",\"#004d52\",\"#6b6400\",\"#7c0100\",\"#6026ff\",\"#ffff9a\",\"#564964\",\"#8cb893\",\"#93fbff\",\"#018267\",\"#90ff00\",\"#8200a0\",\"#ac8944\",\"#5b3400\",\"#ffbff2\",\"#ff6e75\",\"#798cff\",\"#dd00ff\",\"#505646\",\"#004489\",\"#ffbf60\",\"#ff018c\",\"#bdc8cf\",\"#af97b5\",\"#b65600\",\"#017000\",\"#cd87ff\",\"#1cd646\",\"#bfebc3\",\"#7997b5\",\"#a56089\",\"#6e8956\",\"#bc7c75\",\"#8a2844\",\"#00acff\",\"#8ed4ff\",\"#4b6d77\",\"#00d4b1\",\"#9300f2\",\"#8a9500\",\"#5d5b9e\",\"#fddfba\",\"#00939e\",\"#ffdb00\",\"#00aa79\",\"#520067\",\"#000091\",\"#0a5d3d\",\"#a5e275\",\"#623b41\",\"#c6c689\",\"#ff9eb5\",\"#cd4f6b\",\"#ff07d6\",\"#8a3a05\",\"#7e3d70\",\"#ff4901\",\"#602ba5\",\"#1c00ff\",\"#e6dfff\",\"#aa3baf\",\"#d89c00\",\"#a3a39e\",\"#3f69ff\",\"#46490c\",\"#7b6985\",\"#6b978c\",\"#ff9a75\",\"#835bff\",\"#7c6b46\",\"#80b654\",\"#bc0049\",\"#fd93ff\",\"#5d0018\",\"#89d1d1\",\"#9c8cd3\",\"#da6d42\",\"#8a5700\",\"#3b5069\",\"#4b6b3b\",\"#edcfd8\",\"#cfedff\",\"#aa1500\",\"#dfff4f\",\"#ff2a56\",\"#d1499e\",\"#707cb8\",\"#598000\",\"#00e4fd\",\"#774b95\",\"#67d48c\",\"#3d3a72\",\"#ac413f\",\"#d6a166\",\"#c169cd\",\"#69595d\",\"#87aced\",\"#a0a569\",\"#d1aae6\",\"#870062\",\"#00fddb\",\"#672818\",\"#b342ff\",\"#0e59c4\",\"#168742\",\"#90d300\",\"#cd7900\",\"#f959ff\",\"#5b7466\",\"#8eaeb3\",\"#9c7c8c\",\"#4600c6\",\"#6b4d2d\",\"#a56d46\",\"#9e8972\",\"#a8afca\",\"#cd8ca7\",\"#00fd64\",\"#917900\",\"#ff62a1\",\"#f4ffd8\",\"#018cf0\",\"#13aca0\",\"#5b2d59\",\"#89859e\",\"#cfccba\",\"#d4afc4\",\"#dbdd6d\",\"#cffff4\",\"#006485\",\"#006962\",\"#a84167\",\"#2d97c4\",\"#a874ff\",\"#26ba5d\",\"#57b600\",\"#caffa7\",\"#a379aa\",\"#ffbc93\",\"#89e2c1\",\"#0fc8ff\",\"#d400c4\",\"#626d89\",\"#69858e\",\"#4b4d52\",\"#aa6067\",\"#79b5d4\",\"#2b5916\",\"#9a0024\",\"#bdd1f2\",\"#896e67\",\"#69a56b\",\"#855467\",\"#aecdba\",\"#87997e\",\"#cadb00\",\"#9a0390\",\"#ebbc1a\",\"#eb9cd1\",\"#70006e\",\"#b1a131\",\"#ca6b93\",\"#4146a3\",\"#e48c89\",\"#d44400\",\"#c68aca\",\"#b69597\",\"#d41f75\",\"#724bcc\",\"#674d00\",\"#672138\",\"#38564f\",\"#6ebaaa\",\"#853a31\",\"#a5d397\",\"#b8af8e\",\"#d8e4df\",\"#aa00df\",\"#cac1db\",\"#ffdf8c\",\"#e2524d\",\"#66696e\",\"#ff001c\",\"#522d72\",\"#4d906b\",\"#a86d11\",\"#ff9e26\",\"#5ea3af\",\"#c88556\",\"#915997\",\"#a3a1ff\",\"#fdbaba\",\"#242a87\",\"#dbe6a8\",\"#97f2a7\",\"#6793d6\",\"#ba5b3f\",\"#3a5d91\",\"#364f2f\",\"#267c95\",\"#89959a\",\"#cfb356\",\"#004664\",\"#5e5d2f\",\"#8e8e41\",\"#ac3f13\",\"#69953b\",\"#a13d85\",\"#bfb6ba\",\"#acc667\",\"#6469cf\",\"#91af00\",\"#2be2da\",\"#016e36\",\"#ff7952\",\"#42807e\",\"#4fe800\",\"#995428\",\"#5d0a00\",\"#a30057\",\"#0c8700\",\"#5982a7\",\"#ffebfb\",\"#4b6901\",\"#8775d4\",\"#e6c6ff\",\"#a5ffda\",\"#d86e77\",\"#df014b\",\"#69675b\",\"#776ba1\",\"#7e8067\",\"#594685\",\"#0000ca\",\"#7c002a\",\"#97ff72\",\"#b5e2e1\",\"#db52c8\",\"#777734\",\"#57bd8e\",\"#1f77b3\",\"#ff7e0e\",\"#2ba02b\",\"#d62628\",\"#9367bc\",\"#8c564b\",\"#e277c1\",\"#7e7e7e\",\"#bcbc21\",\"#16bdcf\",\"#3a0182\",\"#004201\",\"#0fffa8\",\"#5d003f\",\"#bcbcff\",\"#d8afa1\",\"#b80080\",\"#004d52\",\"#6b6400\",\"#7c0100\",\"#6026ff\",\"#ffff9a\",\"#564964\",\"#8cb893\",\"#93fbff\",\"#018267\",\"#90ff00\",\"#8200a0\",\"#ac8944\",\"#5b3400\",\"#ffbff2\",\"#ff6e75\",\"#798cff\",\"#dd00ff\",\"#505646\",\"#004489\",\"#ffbf60\",\"#ff018c\",\"#bdc8cf\",\"#af97b5\",\"#b65600\",\"#017000\",\"#cd87ff\",\"#1cd646\",\"#bfebc3\",\"#7997b5\",\"#a56089\",\"#6e8956\",\"#bc7c75\",\"#8a2844\",\"#00acff\",\"#8ed4ff\",\"#4b6d77\",\"#00d4b1\",\"#9300f2\",\"#8a9500\",\"#5d5b9e\",\"#fddfba\",\"#00939e\",\"#ffdb00\",\"#00aa79\",\"#520067\",\"#000091\",\"#0a5d3d\",\"#a5e275\",\"#623b41\",\"#c6c689\",\"#ff9eb5\",\"#cd4f6b\",\"#ff07d6\",\"#8a3a05\",\"#7e3d70\",\"#ff4901\",\"#602ba5\",\"#1c00ff\",\"#e6dfff\",\"#aa3baf\",\"#d89c00\",\"#a3a39e\",\"#3f69ff\",\"#46490c\",\"#7b6985\",\"#6b978c\",\"#ff9a75\",\"#835bff\",\"#7c6b46\",\"#80b654\",\"#bc0049\",\"#fd93ff\",\"#5d0018\",\"#89d1d1\",\"#9c8cd3\",\"#da6d42\",\"#8a5700\",\"#3b5069\",\"#4b6b3b\",\"#edcfd8\",\"#cfedff\",\"#aa1500\",\"#dfff4f\",\"#ff2a56\",\"#d1499e\",\"#707cb8\",\"#598000\",\"#00e4fd\",\"#774b95\",\"#67d48c\",\"#3d3a72\",\"#ac413f\",\"#d6a166\",\"#c169cd\",\"#69595d\",\"#87aced\",\"#a0a569\",\"#d1aae6\",\"#870062\",\"#00fddb\",\"#672818\",\"#b342ff\",\"#0e59c4\",\"#168742\",\"#90d300\",\"#cd7900\",\"#f959ff\",\"#5b7466\",\"#8eaeb3\",\"#9c7c8c\",\"#4600c6\",\"#6b4d2d\",\"#a56d46\",\"#9e8972\",\"#a8afca\",\"#cd8ca7\",\"#00fd64\",\"#917900\",\"#ff62a1\",\"#f4ffd8\",\"#018cf0\",\"#13aca0\",\"#5b2d59\",\"#89859e\",\"#cfccba\",\"#d4afc4\",\"#dbdd6d\",\"#cffff4\",\"#006485\",\"#006962\",\"#a84167\",\"#2d97c4\",\"#a874ff\",\"#26ba5d\",\"#57b600\",\"#caffa7\",\"#a379aa\",\"#ffbc93\",\"#89e2c1\",\"#0fc8ff\",\"#d400c4\",\"#626d89\",\"#69858e\",\"#4b4d52\",\"#aa6067\",\"#79b5d4\",\"#2b5916\",\"#9a0024\",\"#bdd1f2\",\"#896e67\",\"#69a56b\",\"#855467\",\"#aecdba\",\"#87997e\",\"#cadb00\",\"#9a0390\",\"#ebbc1a\",\"#eb9cd1\",\"#70006e\",\"#b1a131\",\"#ca6b93\",\"#4146a3\",\"#e48c89\",\"#d44400\",\"#c68aca\",\"#b69597\",\"#d41f75\",\"#724bcc\",\"#674d00\",\"#672138\",\"#38564f\",\"#6ebaaa\",\"#853a31\",\"#a5d397\",\"#b8af8e\",\"#d8e4df\",\"#aa00df\",\"#cac1db\",\"#ffdf8c\",\"#e2524d\",\"#66696e\",\"#ff001c\",\"#522d72\",\"#4d906b\",\"#a86d11\",\"#ff9e26\",\"#5ea3af\",\"#c88556\",\"#915997\",\"#a3a1ff\",\"#fdbaba\",\"#242a87\",\"#dbe6a8\",\"#97f2a7\",\"#6793d6\",\"#ba5b3f\",\"#3a5d91\",\"#364f2f\",\"#267c95\",\"#89959a\",\"#cfb356\",\"#004664\",\"#5e5d2f\",\"#8e8e41\",\"#ac3f13\",\"#69953b\",\"#a13d85\",\"#bfb6ba\",\"#acc667\",\"#6469cf\",\"#91af00\",\"#2be2da\",\"#016e36\",\"#ff7952\",\"#42807e\",\"#4fe800\",\"#995428\",\"#5d0a00\",\"#a30057\",\"#0c8700\",\"#5982a7\",\"#ffebfb\",\"#4b6901\",\"#8775d4\",\"#e6c6ff\",\"#a5ffda\",\"#d86e77\",\"#df014b\",\"#69675b\",\"#776ba1\",\"#7e8067\",\"#594685\",\"#0000ca\",\"#7c002a\",\"#97ff72\",\"#b5e2e1\",\"#db52c8\",\"#777734\",\"#57bd8e\",\"#1f77b3\",\"#ff7e0e\",\"#2ba02b\",\"#d62628\",\"#9367bc\",\"#8c564b\",\"#e277c1\",\"#7e7e7e\",\"#bcbc21\",\"#16bdcf\",\"#3a0182\",\"#004201\",\"#0fffa8\",\"#5d003f\",\"#bcbcff\",\"#d8afa1\",\"#b80080\",\"#004d52\",\"#6b6400\",\"#7c0100\",\"#6026ff\",\"#ffff9a\"],\"factors\":[\"port alfred\",\"constantia\",\"noosa heads\",\"thompson\",\"sao paulo de olivenca\",\"waitangi\",\"puerto natales\",\"kodiak\",\"invercargill\",\"lihue\",\"cascais\",\"ushuaia\",\"adamstown\",\"tadine\",\"longyearbyen\",\"college\",\"edinburgh of the seven seas\",\"port-aux-francais\",\"panjab\",\"hithadhoo\",\"yellowknife\",\"minas de marcona\",\"bera\",\"cataingan\",\"yuzhno-kurilsk\",\"jalai nur\",\"camayenne\",\"chonchi\",\"don luan\",\"bakchar\",\"klyuchi\",\"sahaswan\",\"conde\",\"swakopmund\",\"port mathurin\",\"wailua homesteads\",\"vejalpur\",\"olonkinbyen\",\"colac\",\"puerto ayora\",\"ihosy\",\"vilyuchinsk\",\"guerrero negro\",\"kavaratti\",\"selfoss\",\"nikolayevsk-on-amure\",\"saint-joseph\",\"kayangel\",\"albany\",\"saipan\",\"imbituba\",\"stanley\",\"ribeira grande\",\"vadso\",\"howard springs\",\"tuzlukcu\",\"grytviken\",\"waddan\",\"ain touta\",\"hadibu\",\"novodvinsk\",\"ilulissat\",\"hermanus\",\"cartagena del chaira\",\"port elizabeth\",\"west island\",\"kudahuvadhoo\",\"blackmans bay\",\"talnakh\",\"avarua\",\"mananjary\",\"tela\",\"lebu\",\"dawesville\",\"bethel\",\"arraial do cabo\",\"sao vicente\",\"touros\",\"nyurba\",\"acarau\",\"haiku-pauwela\",\"gubkinskiy\",\"san luis\",\"bredasdorp\",\"khanpur\",\"hilo\",\"jamestown\",\"san bernardo del viento\",\"bilibino\",\"phu ly\",\"zeya\",\"papatowai\",\"bamboo flat\",\"tolanaro\",\"georgetown\",\"villa bruzual\",\"coquimbo\",\"vorgashor\",\"campbell river\",\"sosnovo-ozerskoye\",\"tucumcari\",\"salto\",\"sao gabriel da cachoeira\",\"thunder bay\",\"margate\",\"kapuskasing\",\"kijang\",\"badger\",\"slavgorod\",\"along\",\"lake carmel\",\"vernal\",\"qaqortoq\",\"alesund\",\"hawaiian paradise park\",\"jinchang\",\"petropavlovsk-kamchatsky\",\"mccook\",\"hermiston\",\"punta arenas\",\"otjiwarongo\",\"kapa'a\",\"nishinoomote\",\"mana\",\"utrik\",\"dunedin\",\"kristiansund\",\"galveston\",\"brevard\",\"beau vallon\",\"thinadhoo\",\"kharan\",\"sudislavl'\",\"afif\",\"al muwayh\",\"dabou\",\"ust-nera\",\"andergrove\",\"kavieng\",\"roma\",\"bechar\",\"yantarnyy\",\"kasongo-lunda\",\"fort mcmurray\",\"bikenibeu village\",\"kalmunai\",\"geraldton\",\"hadithah\",\"clarksville\",\"dubovskoye\",\"narasapur\",\"laguna\",\"lamar\",\"tura\",\"mbuji-mayi\",\"inirida\",\"cidreira\",\"igarka\",\"uturoa\",\"codrington\",\"puerto madryn\",\"arteche\",\"nemuro\",\"dudinka\",\"zonguldak\",\"aldan\",\"linhai\",\"port-vila\",\"mount isa\",\"kununurra\",\"kailua-kona\",\"tommot\",\"nogales\",\"alofi\",\"atafu village\",\"datong\",\"enewetak\",\"iqaluit\",\"sao joao da barra\",\"nar'yan-mar\",\"kitui\",\"tiksi\",\"wewak\",\"palafrugell\",\"st. john's\",\"drobeta-turnu severin\",\"muisne\",\"katsuura\",\"chinde\",\"batar\",\"atar\",\"sultanah\",\"ashkasham\",\"fort stockton\",\"aykhal\",\"forster\",\"la ronge\",\"punta del este\",\"beira\",\"anadyr\",\"marine corps base hawaii - mcbh\",\"vorkuta\",\"koulikoro\",\"vilyuysk\",\"taltal\",\"bandar abbas\",\"la passe\",\"torghay\",\"hoi an\",\"happy valley-goose bay\",\"kirensk\",\"beibei\",\"port lincoln\",\"abepura\",\"weno\",\"keflavik\",\"tazovsky\",\"nizhneudinsk\",\"sisimiut\",\"san luis de la loma\",\"mil'kovo\",\"basco\",\"piti village\",\"buka\",\"pocoes\",\"miquelon\",\"key west\",\"fuglafjordur\",\"chadron\",\"tsiombe\",\"bayji\",\"sorong\",\"mahina\",\"conduaga\",\"ulladulla\",\"paragominas\",\"sherghati\",\"puerto penasco\",\"koungou\",\"baikonur\",\"bage\",\"udachny\",\"caiaponia\",\"santander\",\"vanimo\",\"olyokminsk\",\"isafjordur\",\"makoua\",\"mendi\",\"remire-montjoly\",\"moree\",\"margaret river\",\"iskateley\",\"bodaybo\",\"atyrau\",\"ilha de mocambique\",\"ibipeba\",\"beledweyne\",\"mejit\",\"vila franca do campo\",\"pechora\",\"kotlas\",\"aketi\",\"ishigaki\",\"olinda\",\"tazacorte\",\"xinyuan\",\"lascano\",\"hasaki\",\"cronulla\",\"hundested\",\"rio grande\",\"concepcion\",\"zag\",\"mahibadhoo\",\"staryye ozinki\",\"avellaneda\",\"chivilcoy\",\"beboto\",\"tarasovskiy\",\"portland\",\"lompoc\",\"guiuan\",\"hammerfest\",\"itacare\",\"mahebourg\",\"jayapura\",\"afaahiti\",\"mount gambier\",\"okhotsk\",\"ta`u\",\"crane\",\"griffith\",\"palmer\",\"qamdo\",\"sutherlin\",\"caleta de carquin\",\"fisterra\",\"fort st. john\",\"san andres\",\"presidente epitacio\",\"pariaman\",\"auki\",\"klaksvik\",\"itoman\",\"san antonio de pale\",\"nagqu\",\"aasiaat\",\"santa cruz\",\"el bolson\",\"shache\",\"upington\",\"chilliwack\",\"dhromolaxia\",\"cabo san lucas\",\"sittwe\",\"san carlos\",\"coahuayana de hidalgo\",\"cockburn town\",\"oulad teima\",\"balnearia\",\"st. paul\",\"baise city\",\"banda aceh\",\"eilat\",\"puerto baquerizo moreno\",\"whitefish\",\"cestos city\",\"licheng\",\"eyl\",\"branson\",\"susuman\",\"susangerd\",\"praia da vitoria\",\"mandalgovi\",\"polyarnyy\",\"goksun\",\"mwadui\",\"suva\",\"magadan\",\"sinabang\",\"newman\",\"tete\",\"nuuk\",\"hualien city\",\"karratha\",\"viedma\",\"alice springs\",\"ancud\",\"antsiranana\",\"vikhorevka\",\"jinghong\",\"francistown\",\"ephraim\",\"mitsamiouli\",\"rongelap\",\"whitehorse\",\"jaguarari\",\"san juan\",\"yopal\",\"boldumsaz\",\"carrizo springs\",\"egilsstadir\",\"carora\",\"obo\",\"belyy yar\",\"pisco\",\"luderitz\",\"sitka\",\"mar del plata\",\"abaete\",\"sogndal\",\"bardai\",\"farkhar\",\"kandyagash\",\"deqen\",\"senica\",\"inari\",\"isangel\",\"santa cruz del sur\",\"laem sing\",\"ulsteinvik\",\"san juan de miraflores\",\"khark\",\"lata\",\"lazaro cardenas\",\"ntungamo\",\"lake monticello\",\"juba\",\"tapiramuta\",\"waingapu\",\"ciacova\",\"necochea\",\"rupert\",\"tortoli\",\"buala\",\"codajas\",\"mugia\",\"vernon\",\"camabatela\",\"turaif\",\"hurricane\",\"callao\",\"inverell\",\"smithers\",\"nova vicosa\",\"birao\",\"novovorontsovka\",\"chernyshevskiy\",\"tidjikja\",\"dauphin\",\"giyani\",\"puerto deseado\",\"oranjemund\",\"san patricio\",\"mantua\",\"kone\",\"dera bugti\",\"port-gentil\",\"armacao de buzios\",\"khandud\",\"gejiu\",\"coruripe\",\"ola\",\"lorengau\",\"menongue\",\"brinkmann\",\"porto novo\",\"flying fish cove\",\"boundiali\",\"n'dalatando\",\"moyynkum\",\"sur\",\"metlili chaamba\",\"hamilton\",\"madinat ash shamal\",\"akureyri\",\"chui\",\"biograd na moru\",\"mandaguacu\",\"broome\",\"brandon\",\"severo-yeniseyskiy\",\"gadzhiyevo\",\"axim\",\"jamsankoski\",\"camocim\",\"carnarvon\",\"lamu\",\"cole harbour\",\"den burg\",\"fremont\",\"troitsko-pechorsk\",\"prince rupert\",\"khandyga\",\"inhambane\",\"mizhirah\",\"sirjan\",\"ciudad dario\",\"zuenoula\",\"tamandare\",\"graham\",\"yeppoon\",\"bloomfield\",\"rikaze\",\"kuta\",\"illizi\",\"malango\",\"fale old settlement\",\"ferkessedougou\",\"natal\",\"ciudad constitucion\",\"wabag\",\"zouerate\",\"tindouf\",\"tyukhtet\",\"derzhavinsk\",\"east london\",\"san pedro pochutla\",\"colares\",\"scottburgh\",\"fayroz koh\",\"nyrob\",\"bodden town\",\"manokwari\",\"mouila\",\"troitsk\",\"bako\",\"chiang klang\",\"ji'an\",\"robore\",\"dolinsk\",\"maslyanino\",\"monastir\",\"twin falls\",\"naze\",\"iranshahr\",\"port saint john's\",\"port douglas\",\"turpan\",\"saldanha\",\"chulym\",\"bridgewater\",\"queenstown\",\"saudarkrokur\",\"vice\",\"cuiaba\",\"nadi\",\"rawson\",\"benguela\",\"nouadhibou\",\"island harbour\",\"usogorsk\",\"atmore\",\"almeirim\",\"kill devil hills\",\"mungaoli\",\"fort bragg\",\"tamanrasset\",\"peniche\",\"ixtapa\",\"baardheere\",\"emerald\",\"anloga\",\"walvis bay\",\"bakal\",\"campo formoso\",\"sena madureira\",\"puerto francisco de orellana\",\"riberalta\",\"macheng\",\"ariquemes\",\"verdal\",\"manhattan\"]}}},\"line_alpha\":{\"type\":\"value\",\"value\":0.5},\"fill_color\":{\"type\":\"field\",\"field\":\"color\",\"transform\":{\"id\":\"p1157\"}},\"fill_alpha\":{\"type\":\"value\",\"value\":0.5},\"hatch_color\":{\"type\":\"field\",\"field\":\"color\",\"transform\":{\"id\":\"p1157\"}},\"hatch_alpha\":{\"type\":\"value\",\"value\":0.5}}},\"selection_glyph\":{\"type\":\"object\",\"name\":\"Scatter\",\"id\":\"p1166\",\"attributes\":{\"tags\":[\"apply_ranges\"],\"x\":{\"type\":\"field\",\"field\":\"Lng\"},\"y\":{\"type\":\"field\",\"field\":\"Lat\"},\"size\":{\"type\":\"field\",\"field\":\"size\"},\"line_color\":{\"type\":\"field\",\"field\":\"color\",\"transform\":{\"id\":\"p1157\"}},\"line_alpha\":{\"type\":\"value\",\"value\":0.5},\"fill_color\":{\"type\":\"field\",\"field\":\"color\",\"transform\":{\"id\":\"p1157\"}},\"fill_alpha\":{\"type\":\"value\",\"value\":0.5},\"hatch_color\":{\"type\":\"field\",\"field\":\"color\",\"transform\":{\"id\":\"p1157\"}},\"hatch_alpha\":{\"type\":\"value\",\"value\":0.5}}},\"nonselection_glyph\":{\"type\":\"object\",\"name\":\"Scatter\",\"id\":\"p1165\",\"attributes\":{\"tags\":[\"apply_ranges\"],\"x\":{\"type\":\"field\",\"field\":\"Lng\"},\"y\":{\"type\":\"field\",\"field\":\"Lat\"},\"size\":{\"type\":\"field\",\"field\":\"size\"},\"line_color\":{\"type\":\"field\",\"field\":\"color\",\"transform\":{\"id\":\"p1157\"}},\"line_alpha\":{\"type\":\"value\",\"value\":0.5},\"fill_color\":{\"type\":\"field\",\"field\":\"color\",\"transform\":{\"id\":\"p1157\"}},\"fill_alpha\":{\"type\":\"value\",\"value\":0.5},\"hatch_color\":{\"type\":\"field\",\"field\":\"color\",\"transform\":{\"id\":\"p1157\"}},\"hatch_alpha\":{\"type\":\"value\",\"value\":0.1}}},\"hover_glyph\":{\"type\":\"object\",\"name\":\"Scatter\",\"id\":\"p1167\",\"attributes\":{\"tags\":[\"apply_ranges\"],\"x\":{\"type\":\"field\",\"field\":\"Lng\"},\"y\":{\"type\":\"field\",\"field\":\"Lat\"},\"size\":{\"type\":\"field\",\"field\":\"size\"},\"line_color\":{\"type\":\"field\",\"field\":\"color\",\"transform\":{\"id\":\"p1157\"}},\"line_alpha\":{\"type\":\"value\",\"value\":0.5},\"fill_color\":{\"type\":\"field\",\"field\":\"color\",\"transform\":{\"id\":\"p1157\"}},\"fill_alpha\":{\"type\":\"value\",\"value\":0.5},\"hatch_color\":{\"type\":\"field\",\"field\":\"color\",\"transform\":{\"id\":\"p1157\"}},\"hatch_alpha\":{\"type\":\"value\",\"value\":0.5}}},\"muted_glyph\":{\"type\":\"object\",\"name\":\"Scatter\",\"id\":\"p1168\",\"attributes\":{\"tags\":[\"apply_ranges\"],\"x\":{\"type\":\"field\",\"field\":\"Lng\"},\"y\":{\"type\":\"field\",\"field\":\"Lat\"},\"size\":{\"type\":\"field\",\"field\":\"size\"},\"line_color\":{\"type\":\"field\",\"field\":\"color\",\"transform\":{\"id\":\"p1157\"}},\"line_alpha\":{\"type\":\"value\",\"value\":0.2},\"fill_color\":{\"type\":\"field\",\"field\":\"color\",\"transform\":{\"id\":\"p1157\"}},\"fill_alpha\":{\"type\":\"value\",\"value\":0.2},\"hatch_color\":{\"type\":\"field\",\"field\":\"color\",\"transform\":{\"id\":\"p1157\"}},\"hatch_alpha\":{\"type\":\"value\",\"value\":0.2}}}}}],\"toolbar\":{\"type\":\"object\",\"name\":\"Toolbar\",\"id\":\"p1129\",\"attributes\":{\"tools\":[{\"type\":\"object\",\"name\":\"WheelZoomTool\",\"id\":\"p1113\",\"attributes\":{\"zoom_on_axis\":false}},{\"type\":\"object\",\"name\":\"BoxZoomTool\",\"id\":\"p1114\",\"attributes\":{\"overlay\":{\"type\":\"object\",\"name\":\"BoxAnnotation\",\"id\":\"p1004\",\"attributes\":{\"syncable\":false,\"level\":\"overlay\",\"visible\":false,\"left_units\":\"canvas\",\"right_units\":\"canvas\",\"bottom_units\":\"canvas\",\"top_units\":\"canvas\",\"line_color\":\"black\",\"line_alpha\":1.0,\"line_width\":2,\"line_dash\":[4,4],\"fill_color\":\"lightgrey\",\"fill_alpha\":0.5}},\"match_aspect\":true}},{\"type\":\"object\",\"name\":\"HoverTool\",\"id\":\"p1119\",\"attributes\":{\"tags\":[\"hv_created\"],\"renderers\":[{\"id\":\"p1169\"}],\"tooltips\":[[\"Lng\",\"$x{custom}\"],[\"Lat\",\"$y{custom}\"],[\"City\",\"@{City}\"],[\"Humidity\",\"@{Humidity}\"]],\"formatters\":{\"type\":\"map\",\"entries\":[[\"$x\",{\"type\":\"object\",\"name\":\"CustomJSHover\",\"id\":\"p1174\",\"attributes\":{\"code\":\"\\n        const projections = Bokeh.require(\\\"core/util/projections\\\");\\n        const {snap_x, snap_y} = special_vars\\n        const coords = projections.wgs84_mercator.invert(snap_x, snap_y)\\n        return \\\"\\\" + (coords[0]).toFixed(4)\\n    \"}}],[\"$y\",{\"type\":\"object\",\"name\":\"CustomJSHover\",\"id\":\"p1175\",\"attributes\":{\"code\":\"\\n        const projections = Bokeh.require(\\\"core/util/projections\\\");\\n        const {snap_x, snap_y} = special_vars\\n        const coords = projections.wgs84_mercator.invert(snap_x, snap_y)\\n        return \\\"\\\" + (coords[1]).toFixed(4)\\n    \"}}]]}}},{\"type\":\"object\",\"name\":\"PanTool\",\"id\":\"p1143\"},{\"type\":\"object\",\"name\":\"ResetTool\",\"id\":\"p1144\"}],\"active_drag\":{\"id\":\"p1143\"}}},\"left\":[{\"type\":\"object\",\"name\":\"LinearAxis\",\"id\":\"p1137\",\"attributes\":{\"ticker\":{\"type\":\"object\",\"name\":\"MercatorTicker\",\"id\":\"p1147\",\"attributes\":{\"mantissas\":[1,2,5],\"dimension\":\"lat\"}},\"formatter\":{\"type\":\"object\",\"name\":\"MercatorTickFormatter\",\"id\":\"p1148\",\"attributes\":{\"dimension\":\"lat\"}},\"axis_label\":\"Latitude\",\"major_label_policy\":{\"type\":\"object\",\"name\":\"AllLabels\",\"id\":\"p1140\"}}}],\"right\":[{\"type\":\"object\",\"name\":\"Legend\",\"id\":\"p1172\",\"attributes\":{\"location\":[0,0],\"click_policy\":\"mute\",\"items\":[{\"type\":\"object\",\"name\":\"LegendItem\",\"id\":\"p1173\",\"attributes\":{\"label\":{\"type\":\"field\",\"field\":\"color\"},\"renderers\":[{\"id\":\"p1169\"}]}}]}}],\"below\":[{\"type\":\"object\",\"name\":\"LinearAxis\",\"id\":\"p1132\",\"attributes\":{\"ticker\":{\"type\":\"object\",\"name\":\"MercatorTicker\",\"id\":\"p1145\",\"attributes\":{\"mantissas\":[1,2,5],\"dimension\":\"lon\"}},\"formatter\":{\"type\":\"object\",\"name\":\"MercatorTickFormatter\",\"id\":\"p1146\",\"attributes\":{\"dimension\":\"lon\"}},\"axis_label\":\"Longitude\",\"major_label_policy\":{\"type\":\"object\",\"name\":\"AllLabels\",\"id\":\"p1135\"}}}],\"center\":[{\"type\":\"object\",\"name\":\"Grid\",\"id\":\"p1136\",\"attributes\":{\"axis\":{\"id\":\"p1132\"},\"grid_line_color\":null}},{\"type\":\"object\",\"name\":\"Grid\",\"id\":\"p1141\",\"attributes\":{\"dimension\":1,\"axis\":{\"id\":\"p1137\"},\"grid_line_color\":null}}],\"frame_width\":700,\"frame_height\":500,\"min_border_top\":10,\"min_border_bottom\":10,\"min_border_left\":10,\"min_border_right\":10,\"output_backend\":\"webgl\",\"match_aspect\":true}},{\"type\":\"object\",\"name\":\"Spacer\",\"id\":\"p1177\",\"attributes\":{\"name\":\"HSpacer01745\",\"stylesheets\":[\"\\n:host(.pn-loading.pn-arc):before, .pn-loading.pn-arc:before {\\n  background-image: url(\\\"data:image/svg+xml;base64,PHN2ZyB4bWxucz0iaHR0cDovL3d3dy53My5vcmcvMjAwMC9zdmciIHN0eWxlPSJtYXJnaW46IGF1dG87IGJhY2tncm91bmQ6IG5vbmU7IGRpc3BsYXk6IGJsb2NrOyBzaGFwZS1yZW5kZXJpbmc6IGF1dG87IiB2aWV3Qm94PSIwIDAgMTAwIDEwMCIgcHJlc2VydmVBc3BlY3RSYXRpbz0ieE1pZFlNaWQiPiAgPGNpcmNsZSBjeD0iNTAiIGN5PSI1MCIgZmlsbD0ibm9uZSIgc3Ryb2tlPSIjYzNjM2MzIiBzdHJva2Utd2lkdGg9IjEwIiByPSIzNSIgc3Ryb2tlLWRhc2hhcnJheT0iMTY0LjkzMzYxNDMxMzQ2NDE1IDU2Ljk3Nzg3MTQzNzgyMTM4Ij4gICAgPGFuaW1hdGVUcmFuc2Zvcm0gYXR0cmlidXRlTmFtZT0idHJhbnNmb3JtIiB0eXBlPSJyb3RhdGUiIHJlcGVhdENvdW50PSJpbmRlZmluaXRlIiBkdXI9IjFzIiB2YWx1ZXM9IjAgNTAgNTA7MzYwIDUwIDUwIiBrZXlUaW1lcz0iMDsxIj48L2FuaW1hdGVUcmFuc2Zvcm0+ICA8L2NpcmNsZT48L3N2Zz4=\\\");\\n  background-size: auto calc(min(50%, 400px));\\n}\",{\"id\":\"p1098\"},{\"id\":\"p1096\"},{\"id\":\"p1097\"}],\"margin\":0,\"sizing_mode\":\"stretch_width\",\"align\":\"start\"}}]}}],\"defs\":[{\"type\":\"model\",\"name\":\"ReactiveHTML1\"},{\"type\":\"model\",\"name\":\"FlexBox1\",\"properties\":[{\"name\":\"align_content\",\"kind\":\"Any\",\"default\":\"flex-start\"},{\"name\":\"align_items\",\"kind\":\"Any\",\"default\":\"flex-start\"},{\"name\":\"flex_direction\",\"kind\":\"Any\",\"default\":\"row\"},{\"name\":\"flex_wrap\",\"kind\":\"Any\",\"default\":\"wrap\"},{\"name\":\"justify_content\",\"kind\":\"Any\",\"default\":\"flex-start\"}]},{\"type\":\"model\",\"name\":\"FloatPanel1\",\"properties\":[{\"name\":\"config\",\"kind\":\"Any\",\"default\":{\"type\":\"map\"}},{\"name\":\"contained\",\"kind\":\"Any\",\"default\":true},{\"name\":\"position\",\"kind\":\"Any\",\"default\":\"right-top\"},{\"name\":\"offsetx\",\"kind\":\"Any\",\"default\":null},{\"name\":\"offsety\",\"kind\":\"Any\",\"default\":null},{\"name\":\"theme\",\"kind\":\"Any\",\"default\":\"primary\"},{\"name\":\"status\",\"kind\":\"Any\",\"default\":\"normalized\"}]},{\"type\":\"model\",\"name\":\"GridStack1\",\"properties\":[{\"name\":\"mode\",\"kind\":\"Any\",\"default\":\"warn\"},{\"name\":\"ncols\",\"kind\":\"Any\",\"default\":null},{\"name\":\"nrows\",\"kind\":\"Any\",\"default\":null},{\"name\":\"allow_resize\",\"kind\":\"Any\",\"default\":true},{\"name\":\"allow_drag\",\"kind\":\"Any\",\"default\":true},{\"name\":\"state\",\"kind\":\"Any\",\"default\":[]}]},{\"type\":\"model\",\"name\":\"drag1\",\"properties\":[{\"name\":\"slider_width\",\"kind\":\"Any\",\"default\":5},{\"name\":\"slider_color\",\"kind\":\"Any\",\"default\":\"black\"},{\"name\":\"value\",\"kind\":\"Any\",\"default\":50}]},{\"type\":\"model\",\"name\":\"click1\",\"properties\":[{\"name\":\"terminal_output\",\"kind\":\"Any\",\"default\":\"\"},{\"name\":\"debug_name\",\"kind\":\"Any\",\"default\":\"\"},{\"name\":\"clears\",\"kind\":\"Any\",\"default\":0}]},{\"type\":\"model\",\"name\":\"FastWrapper1\",\"properties\":[{\"name\":\"object\",\"kind\":\"Any\",\"default\":null},{\"name\":\"style\",\"kind\":\"Any\",\"default\":null}]},{\"type\":\"model\",\"name\":\"NotificationAreaBase1\",\"properties\":[{\"name\":\"js_events\",\"kind\":\"Any\",\"default\":{\"type\":\"map\"}},{\"name\":\"position\",\"kind\":\"Any\",\"default\":\"bottom-right\"},{\"name\":\"_clear\",\"kind\":\"Any\",\"default\":0}]},{\"type\":\"model\",\"name\":\"NotificationArea1\",\"properties\":[{\"name\":\"js_events\",\"kind\":\"Any\",\"default\":{\"type\":\"map\"}},{\"name\":\"notifications\",\"kind\":\"Any\",\"default\":[]},{\"name\":\"position\",\"kind\":\"Any\",\"default\":\"bottom-right\"},{\"name\":\"_clear\",\"kind\":\"Any\",\"default\":0},{\"name\":\"types\",\"kind\":\"Any\",\"default\":[{\"type\":\"map\",\"entries\":[[\"type\",\"warning\"],[\"background\",\"#ffc107\"],[\"icon\",{\"type\":\"map\",\"entries\":[[\"className\",\"fas fa-exclamation-triangle\"],[\"tagName\",\"i\"],[\"color\",\"white\"]]}]]},{\"type\":\"map\",\"entries\":[[\"type\",\"info\"],[\"background\",\"#007bff\"],[\"icon\",{\"type\":\"map\",\"entries\":[[\"className\",\"fas fa-info-circle\"],[\"tagName\",\"i\"],[\"color\",\"white\"]]}]]}]}]},{\"type\":\"model\",\"name\":\"Notification\",\"properties\":[{\"name\":\"background\",\"kind\":\"Any\",\"default\":null},{\"name\":\"duration\",\"kind\":\"Any\",\"default\":3000},{\"name\":\"icon\",\"kind\":\"Any\",\"default\":null},{\"name\":\"message\",\"kind\":\"Any\",\"default\":\"\"},{\"name\":\"notification_type\",\"kind\":\"Any\",\"default\":null},{\"name\":\"_destroyed\",\"kind\":\"Any\",\"default\":false}]},{\"type\":\"model\",\"name\":\"TemplateActions1\",\"properties\":[{\"name\":\"open_modal\",\"kind\":\"Any\",\"default\":0},{\"name\":\"close_modal\",\"kind\":\"Any\",\"default\":0}]},{\"type\":\"model\",\"name\":\"BootstrapTemplateActions1\",\"properties\":[{\"name\":\"open_modal\",\"kind\":\"Any\",\"default\":0},{\"name\":\"close_modal\",\"kind\":\"Any\",\"default\":0}]},{\"type\":\"model\",\"name\":\"MaterialTemplateActions1\",\"properties\":[{\"name\":\"open_modal\",\"kind\":\"Any\",\"default\":0},{\"name\":\"close_modal\",\"kind\":\"Any\",\"default\":0}]}]}};\n",
       "  var render_items = [{\"docid\":\"1b859989-2cf7-426b-9e53-79bfd1307eed\",\"roots\":{\"p1095\":\"db6559a6-8fc6-45fc-ab7d-80605febd00f\"},\"root_ids\":[\"p1095\"]}];\n",
       "  var docs = Object.values(docs_json)\n",
       "  if (!docs) {\n",
       "    return\n",
       "  }\n",
       "  const py_version = docs[0].version.replace('rc', '-rc.').replace('.dev', '-dev.')\n",
       "  const is_dev = py_version.indexOf(\"+\") !== -1 || py_version.indexOf(\"-\") !== -1\n",
       "  function embed_document(root) {\n",
       "    var Bokeh = get_bokeh(root)\n",
       "    Bokeh.embed.embed_items_notebook(docs_json, render_items);\n",
       "    for (const render_item of render_items) {\n",
       "      for (const root_id of render_item.root_ids) {\n",
       "\tconst id_el = document.getElementById(root_id)\n",
       "\tif (id_el.children.length && (id_el.children[0].className === 'bk-root')) {\n",
       "\t  const root_el = id_el.children[0]\n",
       "\t  root_el.id = root_el.id + '-rendered'\n",
       "\t}\n",
       "      }\n",
       "    }\n",
       "  }\n",
       "  function get_bokeh(root) {\n",
       "    if (root.Bokeh === undefined) {\n",
       "      return null\n",
       "    } else if (root.Bokeh.version !== py_version && !is_dev) {\n",
       "      if (root.Bokeh.versions === undefined || !root.Bokeh.versions.has(py_version)) {\n",
       "\treturn null\n",
       "      }\n",
       "      return root.Bokeh.versions.get(py_version);\n",
       "    } else if (root.Bokeh.version === py_version) {\n",
       "      return root.Bokeh\n",
       "    }\n",
       "    return null\n",
       "  }\n",
       "  function is_loaded(root) {\n",
       "    var Bokeh = get_bokeh(root)\n",
       "    return (Bokeh != null && Bokeh.Panel !== undefined)\n",
       "  }\n",
       "  if (is_loaded(root)) {\n",
       "    embed_document(root);\n",
       "  } else {\n",
       "    var attempts = 0;\n",
       "    var timer = setInterval(function(root) {\n",
       "      if (is_loaded(root)) {\n",
       "        clearInterval(timer);\n",
       "        embed_document(root);\n",
       "      } else if (document.readyState == \"complete\") {\n",
       "        attempts++;\n",
       "        if (attempts > 200) {\n",
       "          clearInterval(timer);\n",
       "\t  var Bokeh = get_bokeh(root)\n",
       "\t  if (Bokeh == null || Bokeh.Panel == null) {\n",
       "            console.warn(\"Panel: ERROR: Unable to run Panel code because Bokeh or Panel library is missing\");\n",
       "\t  } else {\n",
       "\t    console.warn(\"Panel: WARNING: Attempting to render but not all required libraries could be resolved.\")\n",
       "\t    embed_document(root)\n",
       "\t  }\n",
       "        }\n",
       "      }\n",
       "    }, 25, root)\n",
       "  }\n",
       "})(window);</script>"
      ],
      "text/plain": [
       ":Overlay\n",
       "   .WMTS.I   :WMTS   [Longitude,Latitude]\n",
       "   .Points.I :Points   [Lng,Lat]   (City,Humidity)"
      ]
     },
     "execution_count": 31,
     "metadata": {
      "application/vnd.holoviews_exec.v0+json": {
       "id": "p1095"
      }
     },
     "output_type": "execute_result"
    }
   ],
   "source": [
    "%%capture --no-display\n",
    "\n",
    "# Configure the map plot\n",
    "map_plot = city_data_df.hvplot.points(\n",
    "    \"Lng\", \n",
    "    \"Lat\", \n",
    "    geo = True, \n",
    "    size = \"Humidity\",\n",
    "    scale = 1,\n",
    "    color = \"City\",\n",
    "    alpha = 0.5,\n",
    "    tiles = \"OSM\",\n",
    "    frame_width = 700,\n",
    "    frame_height = 500\n",
    ")\n",
    "# Display the map\n",
    "map_plot"
   ]
  },
  {
   "cell_type": "markdown",
   "metadata": {},
   "source": [
    "### Step 2: Narrow down the `city_data_df` DataFrame to find your ideal weather condition"
   ]
  },
  {
   "cell_type": "code",
   "execution_count": 45,
   "metadata": {},
   "outputs": [
    {
     "data": {
      "text/html": [
       "<div>\n",
       "<style scoped>\n",
       "    .dataframe tbody tr th:only-of-type {\n",
       "        vertical-align: middle;\n",
       "    }\n",
       "\n",
       "    .dataframe tbody tr th {\n",
       "        vertical-align: top;\n",
       "    }\n",
       "\n",
       "    .dataframe thead th {\n",
       "        text-align: right;\n",
       "    }\n",
       "</style>\n",
       "<table border=\"1\" class=\"dataframe\">\n",
       "  <thead>\n",
       "    <tr style=\"text-align: right;\">\n",
       "      <th></th>\n",
       "      <th>index</th>\n",
       "      <th>City_ID</th>\n",
       "      <th>City</th>\n",
       "      <th>Lat</th>\n",
       "      <th>Lng</th>\n",
       "      <th>Max Temp</th>\n",
       "      <th>Humidity</th>\n",
       "      <th>Cloudiness</th>\n",
       "      <th>Wind Speed</th>\n",
       "      <th>Country</th>\n",
       "      <th>Date</th>\n",
       "    </tr>\n",
       "  </thead>\n",
       "  <tbody>\n",
       "  </tbody>\n",
       "</table>\n",
       "</div>"
      ],
      "text/plain": [
       "Empty DataFrame\n",
       "Columns: [index, City_ID, City, Lat, Lng, Max Temp, Humidity, Cloudiness, Wind Speed, Country, Date]\n",
       "Index: []"
      ]
     },
     "execution_count": 45,
     "metadata": {},
     "output_type": "execute_result"
    }
   ],
   "source": [
    "# Narrow down cities that fit criteria and drop any results with null values\n",
    "narrow_df = city_data_df.loc[(city_data_df[\"Max Temp\"] > 75) & (city_data_df[\"Max Temp\"] < 90) & \n",
    "                       (city_data_df[\"Cloudiness\"] <50) & (city_data_df[\"Humidity\"])]\n",
    "\n",
    "# Drop any rows with null values\n",
    "narrow_df = narrow_df.dropna(how = 'any')\n",
    "narrow_df.reset_index(inplace = True)\n",
    "# Display sample data\n",
    "narrow_df.head()"
   ]
  },
  {
   "cell_type": "markdown",
   "metadata": {},
   "source": [
    "### Step 3: Create a new DataFrame called `hotel_df`."
   ]
  },
  {
   "cell_type": "code",
   "execution_count": 9,
   "metadata": {},
   "outputs": [],
   "source": [
    "# Use the Pandas copy function to create DataFrame called hotel_df to store the city, country, coordinates, and humidity\n",
    "# YOUR CODE HERE\n",
    "\n",
    "# Add an empty column, \"Hotel Name,\" to the DataFrame so you can store the hotel found using the Geoapify API\n",
    "# YOUR CODE HERE\n",
    "\n",
    "# Display sample data\n",
    "# YOUR CODE HERE"
   ]
  },
  {
   "cell_type": "markdown",
   "metadata": {},
   "source": [
    "### Step 4: For each city, use the Geoapify API to find the first hotel located within 10,000 metres of your coordinates."
   ]
  },
  {
   "cell_type": "code",
   "execution_count": 10,
   "metadata": {},
   "outputs": [
    {
     "ename": "SyntaxError",
     "evalue": "invalid syntax (788381735.py, line 2)",
     "output_type": "error",
     "traceback": [
      "\u001b[1;36m  Cell \u001b[1;32mIn[10], line 2\u001b[1;36m\u001b[0m\n\u001b[1;33m    radius = # YOUR CODE HERE\u001b[0m\n\u001b[1;37m             ^\u001b[0m\n\u001b[1;31mSyntaxError\u001b[0m\u001b[1;31m:\u001b[0m invalid syntax\n"
     ]
    }
   ],
   "source": [
    "# Set parameters to search for a hotel\n",
    "radius = # YOUR CODE HERE\n",
    "params = {\n",
    "    # YOUR CODE HERE\n",
    "}\n",
    "\n",
    "# Print a message to follow up the hotel search\n",
    "print(\"Starting hotel search\")\n",
    "\n",
    "# Iterate through the hotel_df DataFrame\n",
    "for index, row in hotel_df.iterrows():\n",
    "    # get latitude, longitude from the DataFrame\n",
    "    # YOUR CODE HERE\n",
    "    \n",
    "    # Add filter and bias parameters with the current city's latitude and longitude to the params dictionary\n",
    "    params[\"filter\"] = # YOUR CODE HERE\n",
    "    params[\"bias\"] = # YOUR CODE HERE\n",
    "    \n",
    "    # Set base URL\n",
    "    base_url = \"https://api.geoapify.com/v2/places\"\n",
    "\n",
    "\n",
    "    # Make and API request using the params dictionaty\n",
    "    name_address = # YOUR CODE HERE\n",
    "    \n",
    "    # Convert the API response to JSON format\n",
    "    name_address = # YOUR CODE HERE\n",
    "    \n",
    "    # Grab the first hotel from the results and store the name in the hotel_df DataFrame\n",
    "    try:\n",
    "        hotel_df.loc[index, \"Hotel Name\"] = name_address[\"features\"][0][\"properties\"][\"name\"]\n",
    "    except (KeyError, IndexError):\n",
    "        # If no hotel is found, set the hotel name as \"No hotel found\".\n",
    "        hotel_df.loc[index, \"Hotel Name\"] = \"No hotel found\"\n",
    "        \n",
    "    # Log the search results\n",
    "    print(f\"{hotel_df.loc[index, 'City']} - nearest hotel: {hotel_df.loc[index, 'Hotel Name']}\")\n",
    "\n",
    "# Display sample data\n",
    "hotel_df"
   ]
  },
  {
   "cell_type": "markdown",
   "metadata": {},
   "source": [
    "### Step 5: Add the hotel name and the country as additional information in the hover message for each city in the map."
   ]
  },
  {
   "cell_type": "code",
   "execution_count": null,
   "metadata": {},
   "outputs": [],
   "source": [
    "%%capture --no-display\n",
    "\n",
    "# Configure the map plot\n",
    "# YOUR CODE HERE\n",
    "\n",
    "# Display the map\n",
    "# YOUR CODE HERE"
   ]
  },
  {
   "cell_type": "code",
   "execution_count": null,
   "metadata": {},
   "outputs": [],
   "source": []
  }
 ],
 "metadata": {
  "kernelspec": {
   "display_name": "Python 3 (ipykernel)",
   "language": "python",
   "name": "python3"
  },
  "language_info": {
   "codemirror_mode": {
    "name": "ipython",
    "version": 3
   },
   "file_extension": ".py",
   "mimetype": "text/x-python",
   "name": "python",
   "nbconvert_exporter": "python",
   "pygments_lexer": "ipython3",
   "version": "3.11.5"
  },
  "latex_envs": {
   "LaTeX_envs_menu_present": true,
   "autoclose": false,
   "autocomplete": true,
   "bibliofile": "biblio.bib",
   "cite_by": "apalike",
   "current_citInitial": 1,
   "eqLabelWithNumbers": true,
   "eqNumInitial": 1,
   "hotkeys": {
    "equation": "Ctrl-E",
    "itemize": "Ctrl-I"
   },
   "labels_anchors": false,
   "latex_user_defs": false,
   "report_style_numbering": false,
   "user_envs_cfg": false
  }
 },
 "nbformat": 4,
 "nbformat_minor": 4
}
